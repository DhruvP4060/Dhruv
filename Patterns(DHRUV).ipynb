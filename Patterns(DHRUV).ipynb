{
 "cells": [
  {
   "cell_type": "markdown",
   "id": "e37a62c1",
   "metadata": {},
   "source": [
    "Pattern 1: Floyd's triangle"
   ]
  },
  {
   "cell_type": "code",
   "execution_count": 2,
   "id": "6c422ec0",
   "metadata": {},
   "outputs": [
    {
     "name": "stdout",
     "output_type": "stream",
     "text": [
      "Enter range: 7\n",
      "1 \n",
      "2 3 \n",
      "4 5 6 \n",
      "7 8 9 10 \n",
      "11 12 13 14 15 \n",
      "16 17 18 19 20 21 \n",
      "22 23 24 25 26 27 28 \n"
     ]
    }
   ],
   "source": [
    "a=int(input(\"Enter range: \"))\n",
    "n=1\n",
    "for i in range(1,a+1):\n",
    "    for j in range(i):\n",
    "        print(n,end=\" \")\n",
    "        n=n+1\n",
    "    print()"
   ]
  },
  {
   "cell_type": "markdown",
   "id": "18136e1a",
   "metadata": {},
   "source": [
    "Pattern 2: Pascal’s Triangle\n"
   ]
  },
  {
   "cell_type": "code",
   "execution_count": 3,
   "id": "44786840",
   "metadata": {},
   "outputs": [
    {
     "name": "stdout",
     "output_type": "stream",
     "text": [
      "Enter range: 7\n",
      "1 \n",
      "1 1 \n",
      "1 2 1 \n",
      "1 3 3 1 \n",
      "1 4 6 4 1 \n",
      "1 5 10 10 5 1 \n",
      "1 6 15 20 15 6 1 \n"
     ]
    }
   ],
   "source": [
    "n=int(input(\"Enter range: \"))\n",
    "for i in range(1,n+1):\n",
    "    x=1\n",
    "    for j in range(1,i+1):\n",
    "        print(x,end=\" \")\n",
    "        x=x*(i-j)//j\n",
    "    print()"
   ]
  },
  {
   "cell_type": "markdown",
   "id": "d4a25e1d",
   "metadata": {},
   "source": [
    "Pattern 3\n"
   ]
  },
  {
   "cell_type": "code",
   "execution_count": 4,
   "id": "a237db4a",
   "metadata": {},
   "outputs": [
    {
     "name": "stdout",
     "output_type": "stream",
     "text": [
      "Enter range: 4\n",
      "*\n",
      "* 1 * \n",
      "* 1 2 1 * \n",
      "* 1 2 3 2 1 * \n",
      "* 1 2 1 * \n",
      "* 1 * \n",
      "*\n"
     ]
    }
   ],
   "source": [
    "n=int(input(\"Enter range: \"))\n",
    "print(\"*\")\n",
    "for i in range(1,n):\n",
    "    print(\"*\",end=\" \")\n",
    "    for j in range(1,i+1):\n",
    "        print(j,end=\" \")\n",
    "    for k in range(i-1,0,-1):\n",
    "        print(k,end=\" \")\n",
    "    print(\"*\",end=\" \")\n",
    "    print()\n",
    "for i in range(n-1,1,-1):\n",
    "    print(\"*\",end=\" \")\n",
    "    for j in range(1,i-1):\n",
    "        print(j,end=\" \")\n",
    "    for k in range(i-1,0,-1):\n",
    "        print(k,end=\" \")\n",
    "    print(\"*\",end=\" \")\n",
    "    print()\n",
    "print(\"*\")"
   ]
  },
  {
   "cell_type": "markdown",
   "id": "8774df7f",
   "metadata": {},
   "source": [
    "Pattern 4: Hollow Diamond"
   ]
  },
  {
   "cell_type": "code",
   "execution_count": 7,
   "id": "2d544cbe",
   "metadata": {},
   "outputs": [
    {
     "name": "stdout",
     "output_type": "stream",
     "text": [
      "Enter range: 5\n",
      "        * \n",
      "      *   * \n",
      "    *       * \n",
      "  *           * \n",
      "*               * \n",
      "  *           * \n",
      "    *       * \n",
      "      *   * \n",
      "        * \n"
     ]
    }
   ],
   "source": [
    "n=int(input(\"Enter range: \"))\n",
    "for i in range(1,n+1):\n",
    "    for p in range(1,n-i+1):\n",
    "        print(\" \",end=\" \")\n",
    "    for p in range(1,i*2):\n",
    "        if p==1 or p==2*i-1:\n",
    "            print(\"*\",end=\" \")\n",
    "        else:\n",
    "            print(\" \",end=\" \")\n",
    "    print()\n",
    "for i in range(n-1,0,-1):\n",
    "    for p in range(1,n-i+1):\n",
    "        print(\" \",end=\" \")\n",
    "    for p in range(1,i*2):\n",
    "        if p==1 or p==2*i-1:\n",
    "            print(\"*\",end=\" \")\n",
    "        else:\n",
    "            print(\" \",end=\" \")\n",
    "    print()"
   ]
  },
  {
   "cell_type": "markdown",
   "id": "96eea7c2",
   "metadata": {},
   "source": [
    "Pattern 5:"
   ]
  },
  {
   "cell_type": "code",
   "execution_count": 6,
   "id": "d6a7d511",
   "metadata": {},
   "outputs": [
    {
     "name": "stdout",
     "output_type": "stream",
     "text": [
      "Enter range: 5\n",
      "* * * * * * * * * * \n",
      "* * * *     * * * * \n",
      "* * *         * * * \n",
      "* *             * * \n",
      "*                 * \n",
      "*                 * \n",
      "* *             * * \n",
      "* * *         * * * \n",
      "* * * *     * * * * \n",
      "* * * * * * * * * * \n"
     ]
    }
   ],
   "source": [
    "n=int(input(\"Enter range: \"))\n",
    "for i in range(n):\n",
    "    for j in range(n,i,-1):\n",
    "        print(\"*\",end=\" \")\n",
    "    for p in range(0,i*2):\n",
    "        print(\" \",end=\" \")\n",
    "    for k in range(n,i,-1):\n",
    "        print(\"*\",end=\" \")\n",
    "    print()\n",
    "for i in range(n-1,-1,-1):\n",
    "    for k in range(n,i,-1):\n",
    "        print(\"*\",end=\" \")\n",
    "    for p in range(0,i*2):\n",
    "        print(\" \",end=\" \")\n",
    "    for j in range(n,i,-1):\n",
    "        print(\"*\",end=\" \")\n",
    "    print()"
   ]
  }
 ],
 "metadata": {
  "kernelspec": {
   "display_name": "Python 3 (ipykernel)",
   "language": "python",
   "name": "python3"
  },
  "language_info": {
   "codemirror_mode": {
    "name": "ipython",
    "version": 3
   },
   "file_extension": ".py",
   "mimetype": "text/x-python",
   "name": "python",
   "nbconvert_exporter": "python",
   "pygments_lexer": "ipython3",
   "version": "3.9.12"
  }
 },
 "nbformat": 4,
 "nbformat_minor": 5
}
