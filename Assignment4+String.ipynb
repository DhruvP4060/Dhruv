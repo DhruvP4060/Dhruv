{
 "cells": [
  {
   "cell_type": "markdown",
   "id": "eda4a0e6",
   "metadata": {},
   "source": [
    "1. Python program to Count Occurrence of a Character in a String\n"
   ]
  },
  {
   "cell_type": "code",
   "execution_count": 21,
   "id": "6ce20cbd",
   "metadata": {},
   "outputs": [
    {
     "name": "stdout",
     "output_type": "stream",
     "text": [
      "3\n"
     ]
    }
   ],
   "source": [
    "str1=\"Dhruv Parmar\"\n",
    "str2=\"r\"\n",
    "str3=str1.count(str2)\n",
    "print(str3)"
   ]
  },
  {
   "cell_type": "markdown",
   "id": "08f6086c",
   "metadata": {},
   "source": [
    "2. Python Program to Count Characters Frequency in a String\n"
   ]
  },
  {
   "cell_type": "code",
   "execution_count": 22,
   "id": "7da25a48",
   "metadata": {},
   "outputs": [
    {
     "name": "stdout",
     "output_type": "stream",
     "text": [
      "D=1,h=1,r=1,u=1,v=1,"
     ]
    }
   ],
   "source": [
    "str1=\"Dhruv\"\n",
    "for i in str1:\n",
    "    str2=str1.count(i)\n",
    "    print(str(i)+\"=\"+str(str2),end=\",\")"
   ]
  },
  {
   "cell_type": "markdown",
   "id": "69884031",
   "metadata": {},
   "source": [
    "3. Python program to Count Total Characters in a String\n"
   ]
  },
  {
   "cell_type": "code",
   "execution_count": 26,
   "id": "f835f34d",
   "metadata": {},
   "outputs": [
    {
     "name": "stdout",
     "output_type": "stream",
     "text": [
      "12\n"
     ]
    }
   ],
   "source": [
    "str1=\"Dhruv Parmar\"\n",
    "count=0\n",
    "for i in str1:\n",
    "    count+=1\n",
    "print(count)"
   ]
  },
  {
   "cell_type": "markdown",
   "id": "91522aed",
   "metadata": {},
   "source": [
    "4. Python program to Count Total Number of Words in a String\n"
   ]
  },
  {
   "cell_type": "code",
   "execution_count": 25,
   "id": "253d96bf",
   "metadata": {},
   "outputs": [
    {
     "name": "stdout",
     "output_type": "stream",
     "text": [
      "2\n"
     ]
    }
   ],
   "source": [
    "str1=\"Dhruv Parmar\"\n",
    "count=0\n",
    "str2=str1.split(\" \")\n",
    "for i in str2:\n",
    "    count+=1\n",
    "print(count)"
   ]
  },
  {
   "cell_type": "markdown",
   "id": "a0f8a0db",
   "metadata": {},
   "source": [
    "5. Python program to Count Vowels and Consonants in a String\n"
   ]
  },
  {
   "cell_type": "code",
   "execution_count": 11,
   "id": "54b2fde0",
   "metadata": {},
   "outputs": [
    {
     "name": "stdout",
     "output_type": "stream",
     "text": [
      "Enter A string: dhruv\n",
      "Number Of Vowels is:  1\n",
      "Number Of Consonants is:  4\n"
     ]
    }
   ],
   "source": [
    "str1=input(\"Enter A string: \")\n",
    "str2=list(str1)\n",
    "vowel=['a','e','i','o','u','A','E','I','O','U']\n",
    "count=0\n",
    "count1=0\n",
    "for i in str2:\n",
    "    if i in vowel:\n",
    "        count+=1\n",
    "    if i not in vowel:\n",
    "        count1+=1\n",
    "print(\"Number Of Vowels is: \",count)\n",
    "print(\"Number Of Consonants is: \",count1)"
   ]
  },
  {
   "cell_type": "markdown",
   "id": "5c7c3ee5",
   "metadata": {},
   "source": [
    "6. Python program to Count Alphabets Digits and Special Characters in a String\n"
   ]
  },
  {
   "cell_type": "code",
   "execution_count": 4,
   "id": "d9d33fdc",
   "metadata": {},
   "outputs": [
    {
     "name": "stdout",
     "output_type": "stream",
     "text": [
      "Enter A string: Dk4060!!.\n",
      "Number Of Alphabets is:  2\n",
      "Number Of Digits is:  4\n",
      "Number Of Special Characters is:  3\n"
     ]
    }
   ],
   "source": [
    "str1=input(\"Enter A string: \")\n",
    "str2=list(str1)\n",
    "sc=['!','@','#','$','&','?',',','.','\"\"']\n",
    "count=0\n",
    "count1=0\n",
    "count2=0\n",
    "for i in str2:\n",
    "    if i.isalpha()==True:\n",
    "        count+=1\n",
    "    if i.isdigit()==True:\n",
    "        count1+=1\n",
    "    if i in sc:\n",
    "        count2+=1\n",
    "print(\"Number Of Alphabets is: \",count)\n",
    "print(\"Number Of Digits is: \",count1)\n",
    "print(\"Number Of Special Characters is: \",count2)"
   ]
  },
  {
   "cell_type": "markdown",
   "id": "82392402",
   "metadata": {},
   "source": [
    "7. Python program to check Palindrome or Not\n"
   ]
  },
  {
   "cell_type": "code",
   "execution_count": 5,
   "id": "32f05eb8",
   "metadata": {},
   "outputs": [
    {
     "name": "stdout",
     "output_type": "stream",
     "text": [
      "Enter A String: dhruvvurhd\n",
      "The String is Palindrome.\n"
     ]
    }
   ],
   "source": [
    "str1=input(\"Enter A String: \")\n",
    "if str1==str1[::-1]:\n",
    "    print(\"The String is Palindrome.\")\n",
    "else:\n",
    "    print(\"The String is not Palindrome.\")"
   ]
  },
  {
   "cell_type": "markdown",
   "id": "a3886d08",
   "metadata": {},
   "source": [
    "8. Python program to Print First Occurrence of a Character in a String\n"
   ]
  },
  {
   "cell_type": "code",
   "execution_count": 12,
   "id": "cce61da1",
   "metadata": {},
   "outputs": [
    {
     "name": "stdout",
     "output_type": "stream",
     "text": [
      "Enter A String: dhruv\n",
      "d\n"
     ]
    }
   ],
   "source": [
    "str1=input(\"Enter A String: \")\n",
    "print(str1[0:1])"
   ]
  },
  {
   "cell_type": "markdown",
   "id": "6c3864be",
   "metadata": {},
   "source": [
    "9. Python program to Print Last Occurrence of a Character in a String\n"
   ]
  },
  {
   "cell_type": "code",
   "execution_count": 25,
   "id": "a6c15587",
   "metadata": {},
   "outputs": [
    {
     "name": "stdout",
     "output_type": "stream",
     "text": [
      "Enter A String: dhruv\n",
      "v\n"
     ]
    }
   ],
   "source": [
    "str1=input(\"Enter A String: \")\n",
    "print(str1[len(str1)-1])"
   ]
  },
  {
   "cell_type": "markdown",
   "id": "153f642c",
   "metadata": {},
   "source": [
    "10. Python program to Replace Blank Space with Hyphen in a String\n"
   ]
  },
  {
   "cell_type": "code",
   "execution_count": 34,
   "id": "536bc214",
   "metadata": {},
   "outputs": [
    {
     "name": "stdout",
     "output_type": "stream",
     "text": [
      "Enter A String: d k\n",
      "d-k\n"
     ]
    }
   ],
   "source": [
    "str1=input(\"Enter A String: \")\n",
    "str2=str1.replace(' ','-')\n",
    "print(str2)"
   ]
  },
  {
   "cell_type": "markdown",
   "id": "e7c1dbce",
   "metadata": {},
   "source": [
    "11. Python program to Replace Characters in a String\n"
   ]
  },
  {
   "cell_type": "code",
   "execution_count": 37,
   "id": "9fb31d69",
   "metadata": {},
   "outputs": [
    {
     "name": "stdout",
     "output_type": "stream",
     "text": [
      "Enter A String: dk\n",
      "Enter Character To Replace: k\n",
      "Enter Character To Replace With: p\n",
      "dp\n"
     ]
    }
   ],
   "source": [
    "str1=input(\"Enter A String: \")\n",
    "r=input(\"Enter Character To Replace: \")\n",
    "c=input(\"Enter Character To Replace With: \")\n",
    "str3=str1.replace(r,c)\n",
    "print(str3)"
   ]
  },
  {
   "cell_type": "markdown",
   "id": "765d5992",
   "metadata": {},
   "source": [
    "12. Python program to Remove Odd Index Characters in a String\n"
   ]
  },
  {
   "cell_type": "code",
   "execution_count": 50,
   "id": "dc65774b",
   "metadata": {},
   "outputs": [
    {
     "name": "stdout",
     "output_type": "stream",
     "text": [
      "Enter A String: dhruv\n",
      "hu\n"
     ]
    }
   ],
   "source": [
    "str1=input(\"Enter A String: \")\n",
    "str2=\"\"\n",
    "# list1=list(str1)\n",
    "for i in range(len(str1)):\n",
    "    if i%2!=0:\n",
    "        str2=str2+str1[i]\n",
    "print(str2)"
   ]
  },
  {
   "cell_type": "markdown",
   "id": "e3ec06af",
   "metadata": {},
   "source": [
    "13. Python program to Remove First Occurrence of a Character in a String\n"
   ]
  },
  {
   "cell_type": "code",
   "execution_count": 60,
   "id": "f015deb7",
   "metadata": {},
   "outputs": [
    {
     "name": "stdout",
     "output_type": "stream",
     "text": [
      "Enter A String: dhruv\n",
      "hruv\n"
     ]
    }
   ],
   "source": [
    "str1=input(\"Enter A String: \")\n",
    "str2=str1.replace(str1[0:1],'')\n",
    "print(str2)"
   ]
  },
  {
   "cell_type": "markdown",
   "id": "d41e7bff",
   "metadata": {},
   "source": [
    "14. Python program to Remove Last Occurred Character in a String\n"
   ]
  },
  {
   "cell_type": "code",
   "execution_count": 62,
   "id": "b86e14af",
   "metadata": {},
   "outputs": [
    {
     "name": "stdout",
     "output_type": "stream",
     "text": [
      "Enter A String: dhruv\n",
      "dhru\n"
     ]
    }
   ],
   "source": [
    "str1=input(\"Enter A String: \")\n",
    "str2=str1.replace(str1[len(str1)-1],'')\n",
    "print(str2)"
   ]
  },
  {
   "cell_type": "markdown",
   "id": "dd262613",
   "metadata": {},
   "source": [
    "15. Python Program to Remove Punctuations from a String\n"
   ]
  },
  {
   "cell_type": "code",
   "execution_count": 64,
   "id": "77fc9342",
   "metadata": {},
   "outputs": [
    {
     "name": "stdout",
     "output_type": "stream",
     "text": [
      "Enter The Sentence: d!hr.uv?\n",
      "dhruv\n"
     ]
    }
   ],
   "source": [
    "n=input(\"Enter The Sentence: \")\n",
    "list1=[\"?\",\"!\",\".\",\":\"]\n",
    "list2=list(n)\n",
    "for i in list2:\n",
    "    if i in list1:\n",
    "        list2.remove(i)\n",
    "str1=\"\"\n",
    "str2 =str1.join(list2)\n",
    "print(str2)       "
   ]
  },
  {
   "cell_type": "markdown",
   "id": "5a03e9d4",
   "metadata": {},
   "source": [
    "16. Python program to Reverse a String\n"
   ]
  },
  {
   "cell_type": "code",
   "execution_count": 65,
   "id": "dac70aa7",
   "metadata": {},
   "outputs": [
    {
     "name": "stdout",
     "output_type": "stream",
     "text": [
      "Enter A String: dhruv\n",
      "vurhd\n"
     ]
    }
   ],
   "source": [
    "str1=input(\"Enter A String: \")\n",
    "str2=str1[::-1]\n",
    "print(str2)"
   ]
  },
  {
   "cell_type": "markdown",
   "id": "6808caff",
   "metadata": {},
   "source": [
    "17. Python program to find String Length\n"
   ]
  },
  {
   "cell_type": "code",
   "execution_count": 69,
   "id": "57bd2e66",
   "metadata": {},
   "outputs": [
    {
     "name": "stdout",
     "output_type": "stream",
     "text": [
      "Enter A String: dhruv\n",
      "5\n"
     ]
    }
   ],
   "source": [
    "str1=input(\"Enter A String: \")\n",
    "print(len((str1)))"
   ]
  },
  {
   "cell_type": "markdown",
   "id": "186831ac",
   "metadata": {},
   "source": [
    "18. Python program to find Total Occurrence of a Character in a String\n"
   ]
  },
  {
   "cell_type": "code",
   "execution_count": 70,
   "id": "f542ea71",
   "metadata": {},
   "outputs": [
    {
     "name": "stdout",
     "output_type": "stream",
     "text": [
      "Enter A String: dhruv\n",
      "5\n"
     ]
    }
   ],
   "source": [
    "str1=input(\"Enter A String: \")\n",
    "count=0\n",
    "for i in str1:\n",
    "    count+=1\n",
    "print(count)"
   ]
  },
  {
   "cell_type": "markdown",
   "id": "47b6aff9",
   "metadata": {},
   "source": [
    "19. Python program to Toggle Characters Case in a String"
   ]
  },
  {
   "cell_type": "code",
   "execution_count": 73,
   "id": "2c9e9849",
   "metadata": {},
   "outputs": [
    {
     "name": "stdout",
     "output_type": "stream",
     "text": [
      "Enter A String: DHRUV\n",
      "dhruv\n"
     ]
    }
   ],
   "source": [
    "str1=input(\"Enter A String: \")\n",
    "for i in str1:\n",
    "    if i.isupper()==True:\n",
    "        str2=str1.lower()\n",
    "    else:\n",
    "        str2=str1.upper()\n",
    "print(str2)"
   ]
  },
  {
   "cell_type": "markdown",
   "id": "9c41fe7b",
   "metadata": {},
   "source": [
    "## VALIDATION"
   ]
  },
  {
   "cell_type": "code",
   "execution_count": 74,
   "id": "dd01dcd5",
   "metadata": {},
   "outputs": [
    {
     "name": "stdout",
     "output_type": "stream",
     "text": [
      "Enter Your Name: dhruv\n",
      "Enter Your Mobile Number: 1234567890\n",
      "Enter Your Email Id: dhruv@gmail.com\n",
      "Dhruv\n",
      "1234567890\n",
      "dhruv@gmail.com\n"
     ]
    }
   ],
   "source": [
    "name=input(\"Enter Your Name: \")\n",
    "m=input(\"Enter Your Mobile Number: \")\n",
    "e=input(\"Enter Your Email Id: \")\n",
    "if name.isalpha()==True:\n",
    "    print(name.capitalize())\n",
    "else:\n",
    "    print(\"Enter Valid Name.\")\n",
    "if len(m)==10 and m.isdigit()==True:\n",
    "    print(m)\n",
    "else:\n",
    "    print(\"Enter Valid Mobile Number.\")\n",
    "if e[-10:]==\"@gmail.com\":\n",
    "    print(e)\n",
    "else:\n",
    "    print(\"Enter Valid Email Id: \")"
   ]
  }
 ],
 "metadata": {
  "kernelspec": {
   "display_name": "Python 3 (ipykernel)",
   "language": "python",
   "name": "python3"
  },
  "language_info": {
   "codemirror_mode": {
    "name": "ipython",
    "version": 3
   },
   "file_extension": ".py",
   "mimetype": "text/x-python",
   "name": "python",
   "nbconvert_exporter": "python",
   "pygments_lexer": "ipython3",
   "version": "3.9.12"
  }
 },
 "nbformat": 4,
 "nbformat_minor": 5
}
