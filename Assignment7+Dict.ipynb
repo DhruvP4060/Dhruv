{
 "cells": [
  {
   "cell_type": "markdown",
   "id": "5379c757",
   "metadata": {},
   "source": [
    "1. Python example to add Key-Value Pair to a Dictionary\n"
   ]
  },
  {
   "cell_type": "code",
   "execution_count": 15,
   "id": "cd3da921",
   "metadata": {},
   "outputs": [
    {
     "name": "stdout",
     "output_type": "stream",
     "text": [
      "Enter Key: x\n",
      "Enter Value: y\n",
      "{'x': 'y'}\n"
     ]
    }
   ],
   "source": [
    "dict1={}\n",
    "key=input(\"Enter Key: \")\n",
    "value=input(\"Enter Value: \")\n",
    "dict1[key]=value\n",
    "print(dict1)"
   ]
  },
  {
   "cell_type": "markdown",
   "id": "6b27270b",
   "metadata": {},
   "source": [
    "2. Python program to Check if a Given key exists in a Dictionary\n"
   ]
  },
  {
   "cell_type": "code",
   "execution_count": 11,
   "id": "17ea2269",
   "metadata": {},
   "outputs": [
    {
     "name": "stdout",
     "output_type": "stream",
     "text": [
      "Enter Key To Check: b\n",
      "Key is Exists.\n"
     ]
    }
   ],
   "source": [
    "dict1={'a':'apple','b':'banana','c':'orange'}\n",
    "n=input(\"Enter Key To Check: \")\n",
    "if n in dict1.keys():\n",
    "    print(\"Key is Exists.\")\n",
    "else:\n",
    "    print(\"Key is not Exists.\")"
   ]
  },
  {
   "cell_type": "markdown",
   "id": "86f24da9",
   "metadata": {},
   "source": [
    "3. Python program to Count words in a String using Dictionary\n"
   ]
  },
  {
   "cell_type": "code",
   "execution_count": 24,
   "id": "aef99c57",
   "metadata": {},
   "outputs": [
    {
     "name": "stdout",
     "output_type": "stream",
     "text": [
      "Enter String: dhruv parmar dhruv\n",
      "The Words Count in String is:  {'dhruv': 2, 'parmar': 1}\n"
     ]
    }
   ],
   "source": [
    "str1=input(\"Enter String: \")\n",
    "dict1={}\n",
    "d=str1.split()\n",
    "for i in d:\n",
    "    dict1[i]=d.count(i)\n",
    "print(\"The Words Count in String is: \",dict1)"
   ]
  },
  {
   "cell_type": "markdown",
   "id": "c42d02af",
   "metadata": {},
   "source": [
    "4. Python program to Create Dictionary of keys from 1 to n and values are square of keys"
   ]
  },
  {
   "cell_type": "code",
   "execution_count": 29,
   "id": "b81bf49b",
   "metadata": {},
   "outputs": [
    {
     "name": "stdout",
     "output_type": "stream",
     "text": [
      "Enter the Range Of Key: 5\n",
      "{1: 1, 2: 4, 3: 9, 4: 16, 5: 25}\n"
     ]
    }
   ],
   "source": [
    "dict1={}\n",
    "key=int(input(\"Enter the Range Of Key: \"))\n",
    "for value in range(1,key+1):\n",
    "    dict1[value]=value**2\n",
    "print(dict1)"
   ]
  },
  {
   "cell_type": "markdown",
   "id": "a25288d4",
   "metadata": {},
   "source": [
    "5. Python program to Create Dictionary of Numbers 1 to n in (x, x*x) form\n"
   ]
  },
  {
   "cell_type": "code",
   "execution_count": 30,
   "id": "797d9206",
   "metadata": {},
   "outputs": [
    {
     "name": "stdout",
     "output_type": "stream",
     "text": [
      "Enter the Range Of Key: 5\n",
      "{1: (1, 1), 2: (2, 4), 3: (3, 9), 4: (4, 16), 5: (5, 25)}\n"
     ]
    }
   ],
   "source": [
    "dict1={}\n",
    "key=int(input(\"Enter the Range Of Key: \"))\n",
    "for value in range(1,key+1):\n",
    "    dict1[value]=(value,value**2)\n",
    "print(dict1)"
   ]
  },
  {
   "cell_type": "markdown",
   "id": "7c24e5e3",
   "metadata": {},
   "source": [
    "6. Python program to Map two lists into a Dictionary\n"
   ]
  },
  {
   "cell_type": "code",
   "execution_count": 12,
   "id": "6b60e9b3",
   "metadata": {},
   "outputs": [
    {
     "name": "stdout",
     "output_type": "stream",
     "text": [
      "Enter The list Element: 1 2 3\n",
      "Enter The list Element: 4 5 6\n",
      "{'1': '4', '2': '5', '3': '6'}\n"
     ]
    }
   ],
   "source": [
    "list1=input(\"Enter The list Element: \").split()\n",
    "list2=input(\"Enter The list Element: \").split()\n",
    "dict1=dict(zip(list1,list2))\n",
    "print(dict1)"
   ]
  },
  {
   "cell_type": "markdown",
   "id": "62be4408",
   "metadata": {},
   "source": [
    "7. Python program to Merge Two Dictionaries\n"
   ]
  },
  {
   "cell_type": "code",
   "execution_count": 2,
   "id": "1edff0dc",
   "metadata": {},
   "outputs": [
    {
     "name": "stdout",
     "output_type": "stream",
     "text": [
      "{'a': 'apple', 'b': 'banana', 'c': 'orange', '1': 'dhruv', '2': 'tax', '3': 'krishna', '4': 'kishan'}\n"
     ]
    }
   ],
   "source": [
    "dict1={'a':'apple','b':'banana','c':'orange'}\n",
    "dict2={'1': 'dhruv', '2': 'tax', '3': 'krishna', '4': 'kishan'}\n",
    "dict1.update(dict2)\n",
    "print(dict1)"
   ]
  },
  {
   "cell_type": "markdown",
   "id": "3ff1dc5b",
   "metadata": {},
   "source": [
    "8. Python program to Multiply All Items in a Dictionary\n"
   ]
  },
  {
   "cell_type": "code",
   "execution_count": 4,
   "id": "3b665182",
   "metadata": {},
   "outputs": [
    {
     "name": "stdout",
     "output_type": "stream",
     "text": [
      "36\n"
     ]
    }
   ],
   "source": [
    "dict1={'1':1,'2':4,'3':9}\n",
    "n=1\n",
    "for i in dict1:\n",
    "    n=n*dict1[i]\n",
    "print(n)"
   ]
  },
  {
   "cell_type": "markdown",
   "id": "1f2cfee9",
   "metadata": {},
   "source": [
    "9. Python program to Remove Given Key from a Dictionary\n"
   ]
  },
  {
   "cell_type": "code",
   "execution_count": 8,
   "id": "a0741607",
   "metadata": {},
   "outputs": [
    {
     "name": "stdout",
     "output_type": "stream",
     "text": [
      "Enter Key To Remove: 2\n",
      "{'1': 1, '3': 9}\n"
     ]
    }
   ],
   "source": [
    "dict1={'1':1,'2':4,'3':9}\n",
    "key=input(\"Enter Key To Remove: \")\n",
    "dict1.pop(key)\n",
    "print(dict1)"
   ]
  },
  {
   "cell_type": "markdown",
   "id": "d5dfc628",
   "metadata": {},
   "source": [
    "10. Python program to find Sum of Items in a Dictionary"
   ]
  },
  {
   "cell_type": "code",
   "execution_count": 6,
   "id": "463df1df",
   "metadata": {},
   "outputs": [
    {
     "name": "stdout",
     "output_type": "stream",
     "text": [
      "{6: 14}\n"
     ]
    }
   ],
   "source": [
    "dict1={1:1,2:4,3:9}\n",
    "dict2 = {}\n",
    "i=0\n",
    "j=0\n",
    "for key,value in dict1.items():\n",
    "    i=key+i\n",
    "    j=value+j   \n",
    "dict2[i] = j\n",
    "print(dict2)"
   ]
  }
 ],
 "metadata": {
  "kernelspec": {
   "display_name": "Python 3 (ipykernel)",
   "language": "python",
   "name": "python3"
  },
  "language_info": {
   "codemirror_mode": {
    "name": "ipython",
    "version": 3
   },
   "file_extension": ".py",
   "mimetype": "text/x-python",
   "name": "python",
   "nbconvert_exporter": "python",
   "pygments_lexer": "ipython3",
   "version": "3.9.12"
  }
 },
 "nbformat": 4,
 "nbformat_minor": 5
}
