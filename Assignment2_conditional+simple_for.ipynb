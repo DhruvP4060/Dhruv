{
 "cells": [
  {
   "cell_type": "markdown",
   "id": "6005f16a",
   "metadata": {},
   "source": [
    "1. Write a program to accept percentage from the user and display the grade according to the following criteria:\n",
    "Marks Grade\n",
    " > 90 A\n",
    " > 80 and <= 90 B\n",
    " >= 60 and <= 80 C\n",
    " below 60 D"
   ]
  },
  {
   "cell_type": "code",
   "execution_count": 4,
   "id": "e82e6f31",
   "metadata": {},
   "outputs": [
    {
     "name": "stdout",
     "output_type": "stream",
     "text": [
      "Enter Percentage To Check Grade: 65\n",
      "You Have Got C Grade.\n"
     ]
    }
   ],
   "source": [
    "percentage=int(input(\"Enter Percentage To Check Grade: \"))\n",
    "if percentage>=90:\n",
    "    print(\"You Have Got A Grade.\")\n",
    "elif percentage in range(80,91):\n",
    "    print(\"You Have Got B Grade.\")\n",
    "elif percentage in range(60,81):\n",
    "    print(\"You Have Got C Grade.\")\n",
    "elif percentage<=60:\n",
    "    print(\"You Have Got D Grade.\")"
   ]
  },
  {
   "cell_type": "markdown",
   "id": "27c851eb",
   "metadata": {},
   "source": [
    "2. Write a Python program to check if a number is positive, negative or zero.\n"
   ]
  },
  {
   "cell_type": "code",
   "execution_count": 23,
   "id": "92965bcf",
   "metadata": {},
   "outputs": [
    {
     "name": "stdout",
     "output_type": "stream",
     "text": [
      "Enter a Number: 1\n",
      "The Number is Positive.\n"
     ]
    }
   ],
   "source": [
    "num1=int(input(\"Enter a Number: \"))\n",
    "if num1>0:\n",
    "     print(\"The Number is Positive.\")\n",
    "elif num1<0:\n",
    "     print(\"The Number is Negative.\")\n",
    "else:\n",
    "     print(\"The Number is Zero.\")"
   ]
  },
  {
   "cell_type": "markdown",
   "id": "c0d23307",
   "metadata": {},
   "source": [
    "3. Write a Python program to check if variable is of integer or string.\n"
   ]
  },
  {
   "cell_type": "code",
   "execution_count": 14,
   "id": "aa657a56",
   "metadata": {},
   "outputs": [
    {
     "name": "stdout",
     "output_type": "stream",
     "text": [
      "The Variable is  <class 'str'>\n"
     ]
    }
   ],
   "source": [
    "var1=\"Dhruv\"\n",
    "print(\"The Variable is \",type(var1))"
   ]
  },
  {
   "cell_type": "markdown",
   "id": "a9a1eb4c",
   "metadata": {},
   "source": [
    "4. Write a Python Program to Check given year is Leap Year or not.\n"
   ]
  },
  {
   "cell_type": "code",
   "execution_count": 15,
   "id": "d04cf555",
   "metadata": {},
   "outputs": [
    {
     "name": "stdout",
     "output_type": "stream",
     "text": [
      "Enter Year To Check Leap Year Or not: 2021\n",
      "2021 is not a Leap Year.\n"
     ]
    }
   ],
   "source": [
    "y=int(input(\"Enter Year To Check Leap Year Or not: \"))\n",
    "if y%4==0 or y%100==0 or y%400==0:\n",
    "    print(f\"{y} is a Leap Year.\" )\n",
    "else:\n",
    "    print(f\"{y} is not a Leap Year.\" )"
   ]
  },
  {
   "cell_type": "markdown",
   "id": "8c022f36",
   "metadata": {},
   "source": [
    "5. Python Program to Print Natural Numbers\n"
   ]
  },
  {
   "cell_type": "code",
   "execution_count": 27,
   "id": "04948415",
   "metadata": {},
   "outputs": [
    {
     "name": "stdout",
     "output_type": "stream",
     "text": [
      "Enter start number of Range: 1\n",
      "Enter End number of Range: 25\n",
      "1 2 3 4 5 6 7 8 9 10 11 12 13 14 15 16 17 18 19 20 21 22 23 24 25 "
     ]
    }
   ],
   "source": [
    "num1=int(input(\"Enter start number of Range: \"))\n",
    "num2=int(input(\"Enter End number of Range: \"))\n",
    "for i in range(num1,num2+1):\n",
    "    print(i,end=\" \")"
   ]
  },
  {
   "cell_type": "markdown",
   "id": "dacd79c6",
   "metadata": {},
   "source": [
    "6. Python Program to Print Even Numbers from 1 to N\n"
   ]
  },
  {
   "cell_type": "code",
   "execution_count": 28,
   "id": "fcc418a4",
   "metadata": {},
   "outputs": [
    {
     "name": "stdout",
     "output_type": "stream",
     "text": [
      "Enter start number of Range: 1\n",
      "Enter End number of Range: 20\n",
      "2 4 6 8 10 12 14 16 18 20 "
     ]
    }
   ],
   "source": [
    "num1=int(input(\"Enter start number of Range: \"))\n",
    "num2=int(input(\"Enter End number of Range: \"))\n",
    "for i in range(num1,num2+1):\n",
    "    if i%2==0:\n",
    "        print(i,end=\" \")"
   ]
  },
  {
   "cell_type": "markdown",
   "id": "33b64111",
   "metadata": {},
   "source": [
    "7. Python Program to Print all Prime Numbers in an Interval\n"
   ]
  },
  {
   "cell_type": "code",
   "execution_count": 26,
   "id": "e17fb651",
   "metadata": {},
   "outputs": [
    {
     "name": "stdout",
     "output_type": "stream",
     "text": [
      "Enter number: 12\n",
      "12 is not prime number.\n"
     ]
    }
   ],
   "source": [
    "num1=int(input(\"Enter number: \"))\n",
    "if num1>1:\n",
    "    for i in range(2,int(num1/2)+1):\n",
    "        if num1%i== 0:\n",
    "            print(f\"{num1} is not prime number.\")\n",
    "            break\n",
    "    else:\n",
    "        print(f\"{num1} is prime number.\")  \n",
    "else:\n",
    "    print(f\"{num1} is not prime number.\")"
   ]
  },
  {
   "cell_type": "markdown",
   "id": "d5033c12",
   "metadata": {},
   "source": [
    "8. Python Program to Print Natural Numbers in Reverse\n"
   ]
  },
  {
   "cell_type": "code",
   "execution_count": 30,
   "id": "769f921f",
   "metadata": {},
   "outputs": [
    {
     "name": "stdout",
     "output_type": "stream",
     "text": [
      "Enter start number of Range: 1\n",
      "Enter End number of Range: 15\n",
      "15 14 13 12 11 10 9 8 7 6 5 4 3 2 "
     ]
    }
   ],
   "source": [
    "num1=int(input(\"Enter start number of Range: \"))\n",
    "num2=int(input(\"Enter End number of Range: \"))\n",
    "for i in range(num2,num1,-1):\n",
    "    print(i,end=\" \")"
   ]
  },
  {
   "cell_type": "markdown",
   "id": "1def79bc",
   "metadata": {},
   "source": [
    "9. Python Program to find Sum of Even and Odd Numbers from 1 to N\n"
   ]
  },
  {
   "cell_type": "code",
   "execution_count": 32,
   "id": "9a9db06e",
   "metadata": {},
   "outputs": [
    {
     "name": "stdout",
     "output_type": "stream",
     "text": [
      "Enter start number of Range: 1\n",
      "Enter End number of Range: 5\n",
      "sum of Even numbers is 6\n",
      "sum of Odd numbers is 4\n"
     ]
    }
   ],
   "source": [
    "num1=int(input(\"Enter start number of Range: \"))\n",
    "num2=int(input(\"Enter End number of Range: \"))\n",
    "sum1 = 0\n",
    "sum2 = 0\n",
    "for i in range(num1,num2):\n",
    "    if i % 2 == 0:\n",
    "        sum1+=i\n",
    "    else:\n",
    "        sum2+=i\n",
    "print(\"sum of Even numbers is\",sum1)\n",
    "print(\"sum of Odd numbers is\",sum2)\n"
   ]
  },
  {
   "cell_type": "markdown",
   "id": "587430ad",
   "metadata": {},
   "source": [
    "10. Python Program to Display the Multiplication Table\n"
   ]
  },
  {
   "cell_type": "code",
   "execution_count": 21,
   "id": "21dad924",
   "metadata": {},
   "outputs": [
    {
     "name": "stdout",
     "output_type": "stream",
     "text": [
      "Enter Number To Find Multiplication Table: 2\n",
      "2 * 1 = 2\n",
      "2 * 2 = 4\n",
      "2 * 3 = 6\n",
      "2 * 4 = 8\n",
      "2 * 5 = 10\n",
      "2 * 6 = 12\n",
      "2 * 7 = 14\n",
      "2 * 8 = 16\n",
      "2 * 9 = 18\n",
      "2 * 10 = 20\n"
     ]
    }
   ],
   "source": [
    "num1=int(input(\"Enter Number To Find Multiplication Table: \"))\n",
    "for i in range(1,11):\n",
    "    num2=num1*i\n",
    "    print(num1,\"*\",i,\"=\",num2)"
   ]
  },
  {
   "cell_type": "markdown",
   "id": "97c9812e",
   "metadata": {},
   "source": [
    "11. Python Program to Check Number is Divisible by 5 in a given interval. Order"
   ]
  },
  {
   "cell_type": "code",
   "execution_count": 34,
   "id": "3b5c9464",
   "metadata": {},
   "outputs": [
    {
     "name": "stdout",
     "output_type": "stream",
     "text": [
      "Enter start number of Range: 1\n",
      "Enter End number of Range: 20\n",
      "5 is Divisible By 5.\n",
      "10 is Divisible By 5.\n",
      "15 is Divisible By 5.\n"
     ]
    }
   ],
   "source": [
    "num1=int(input(\"Enter start number of Range: \"))\n",
    "num2=int(input(\"Enter End number of Range: \"))\n",
    "for i in range(num1,num2):\n",
    "    if i%5==0:\n",
    "        print(f\"{i} is Divisible By 5.\")"
   ]
  },
  {
   "cell_type": "markdown",
   "id": "8df4cce5",
   "metadata": {},
   "source": [
    "12. Write a Python program to print negative numbers in an interval."
   ]
  },
  {
   "cell_type": "code",
   "execution_count": 20,
   "id": "6ab020db",
   "metadata": {},
   "outputs": [
    {
     "name": "stdout",
     "output_type": "stream",
     "text": [
      "Enter start number of Range: -10\n",
      "Enter End number of Range: 1\n",
      "-10 -9 -8 -7 -6 -5 -4 -3 -2 -1 0 "
     ]
    }
   ],
   "source": [
    "num1=int(input(\"Enter start number of Range: \"))\n",
    "num2=int(input(\"Enter End number of Range: \"))\n",
    "for i in range(num1,num2):\n",
    "    if i<=0:\n",
    "        print(i,end=\" \")"
   ]
  }
 ],
 "metadata": {
  "kernelspec": {
   "display_name": "Python 3 (ipykernel)",
   "language": "python",
   "name": "python3"
  },
  "language_info": {
   "codemirror_mode": {
    "name": "ipython",
    "version": 3
   },
   "file_extension": ".py",
   "mimetype": "text/x-python",
   "name": "python",
   "nbconvert_exporter": "python",
   "pygments_lexer": "ipython3",
   "version": "3.9.12"
  }
 },
 "nbformat": 4,
 "nbformat_minor": 5
}
