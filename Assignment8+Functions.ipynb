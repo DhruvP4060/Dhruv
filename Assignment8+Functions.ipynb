{
 "cells": [
  {
   "cell_type": "markdown",
   "id": "e7ef4cc0",
   "metadata": {},
   "source": [
    "1. Write a python program of a calculator using function.\n"
   ]
  },
  {
   "cell_type": "code",
   "execution_count": 5,
   "id": "dd1a7632",
   "metadata": {},
   "outputs": [
    {
     "name": "stdout",
     "output_type": "stream",
     "text": [
      "Enter 1st Number: 4\n",
      "Enter 2st Number: 2\n",
      "Enter Operator(+, -, *, /): /\n",
      "The Division Of 4 and 2 is 2.0.\n"
     ]
    }
   ],
   "source": [
    "def calculator(num1,num2,choice):\n",
    "    if choice=='+':\n",
    "        sum1=num1+num2\n",
    "        print(f\"The Addition Of {num1} and {num2} is {sum1}.\")\n",
    "    elif choice=='-':\n",
    "        sub1=num1-num2\n",
    "        print(f\"The Subtraction Of {num1} and {num2} is {sub1}.\")\n",
    "    elif choice=='*':\n",
    "        mul1=num1*num2\n",
    "        print(f\"The Multiplication Of {num1} and {num2} is {mul1}.\")\n",
    "    elif choice=='/':\n",
    "        div1=num1/num2\n",
    "        print(f\"The Division Of {num1} and {num2} is {div1}.\")\n",
    "n1=int(input(\"Enter 1st Number: \"))\n",
    "n2=int(input(\"Enter 2st Number: \"))\n",
    "c1=input(\"Enter Operator(+, -, *, /): \")\n",
    "calculator(n1,n2,c1)"
   ]
  },
  {
   "cell_type": "markdown",
   "id": "17202229",
   "metadata": {},
   "source": [
    "2. Write a python program to check whether a given number is odd or even using function\n"
   ]
  },
  {
   "cell_type": "code",
   "execution_count": 9,
   "id": "c86e9235",
   "metadata": {},
   "outputs": [
    {
     "name": "stdout",
     "output_type": "stream",
     "text": [
      "Enter Number To Check Either Even or Odd: 3\n",
      "The Number 3 is Odd.\n"
     ]
    }
   ],
   "source": [
    "def even_odd(num):\n",
    "    if num%2==0:\n",
    "        print(f\"The Number {num} is Even.\")\n",
    "    else:\n",
    "        print(f\"The Number {num} is Odd.\")\n",
    "n=int(input(\"Enter Number To Check Either Even or Odd: \"))\n",
    "even_odd(n)"
   ]
  },
  {
   "cell_type": "markdown",
   "id": "cd32af07",
   "metadata": {},
   "source": [
    "3. Define a function which counts vowels and consonant in a word.\n"
   ]
  },
  {
   "cell_type": "code",
   "execution_count": 11,
   "id": "fadb1b86",
   "metadata": {},
   "outputs": [
    {
     "name": "stdout",
     "output_type": "stream",
     "text": [
      "Enter a String: dhruv @ parmar\n",
      "Number Of Vowels are:  3\n",
      "Number Of Consonents are:  8\n"
     ]
    }
   ],
   "source": [
    "def fun(str1):\n",
    "    count1=0\n",
    "    count2=0\n",
    "    list1=['a','e','i','o','u']\n",
    "    list2=['!','?','@','#','$','%','&','*',' ','+','-','/']\n",
    "    for i in str1:   \n",
    "        if i in list1:\n",
    "            count1+=1\n",
    "        elif i==\" \" or i in list2:\n",
    "            continue\n",
    "        else:\n",
    "            count2+=1\n",
    "    return count1,count2    \n",
    "str1=input(\"Enter a String: \")\n",
    "count1,count2=fun(str1)\n",
    "print(\"Number Of Vowels are: \",count1)\n",
    "print(\"Number Of Consonents are: \",count2) "
   ]
  },
  {
   "cell_type": "markdown",
   "id": "c45bc2be",
   "metadata": {},
   "source": [
    "4. Write a python program to find length of a string using function (without using in-built function)"
   ]
  },
  {
   "cell_type": "code",
   "execution_count": 13,
   "id": "2a06c5e2",
   "metadata": {},
   "outputs": [
    {
     "name": "stdout",
     "output_type": "stream",
     "text": [
      "Enter a String: dhruv\n",
      "The Length of a string is 5.\n"
     ]
    }
   ],
   "source": [
    "def length(str1):\n",
    "    count=0\n",
    "    for i in str1:\n",
    "        count+=1\n",
    "    print(f\"The Length of a string is {count}.\")\n",
    "str1=input(\"Enter a String: \")\n",
    "length(str1)"
   ]
  },
  {
   "cell_type": "markdown",
   "id": "c8fd16e5",
   "metadata": {},
   "source": [
    "5. Define a function that accepts radius and returns the area of a circle.\n"
   ]
  },
  {
   "cell_type": "code",
   "execution_count": 16,
   "id": "6d74bc96",
   "metadata": {},
   "outputs": [
    {
     "name": "stdout",
     "output_type": "stream",
     "text": [
      "Enter The Radius of a Circle: 4\n",
      "The Area of a Circle is 50.24.\n"
     ]
    }
   ],
   "source": [
    "def Circle(radius):\n",
    "        print(f\"The Area of a Circle is {(radius**2)*3.14}.\")\n",
    "r1=int(input(\"Enter The Radius of a Circle: \"))\n",
    "Circle(r1)"
   ]
  },
  {
   "cell_type": "markdown",
   "id": "bb064a92",
   "metadata": {},
   "source": [
    "6. Write a python program to find sum of elements of the list using function (without using inbuilt function).\n"
   ]
  },
  {
   "cell_type": "code",
   "execution_count": 18,
   "id": "f562b150",
   "metadata": {},
   "outputs": [
    {
     "name": "stdout",
     "output_type": "stream",
     "text": [
      "Enter Elements in List: 1 2 3 4 5\n",
      "The Sum of List Elements is 15.\n"
     ]
    }
   ],
   "source": [
    "def sum1(list1):\n",
    "    sum2=0\n",
    "    for i in list1:\n",
    "        sum2+=int(i)\n",
    "    print(f\"The Sum of List Elements is {sum2}.\")\n",
    "l1=input(\"Enter Elements in List: \").split()\n",
    "l2=list(l1)\n",
    "sum1(l2)"
   ]
  },
  {
   "cell_type": "markdown",
   "id": "511cbd33",
   "metadata": {},
   "source": [
    "7. Write a python program to find average of list using function.\n"
   ]
  },
  {
   "cell_type": "code",
   "execution_count": 1,
   "id": "6a002f54",
   "metadata": {},
   "outputs": [
    {
     "name": "stdout",
     "output_type": "stream",
     "text": [
      "Enter Elements in List: 1 2 3 4 5\n",
      "The Average of List Elements is 3.0.\n"
     ]
    }
   ],
   "source": [
    "def avg(list1):\n",
    "    avg1=0\n",
    "    sum1=0\n",
    "    for i in list1:\n",
    "        sum1+=int(i)\n",
    "        avg1=sum1/len(list1)\n",
    "    print(f\"The Average of List Elements is {avg1}.\")\n",
    "l1=input(\"Enter Elements in List: \").split()\n",
    "l2=list(l1)\n",
    "avg(l2)"
   ]
  },
  {
   "cell_type": "markdown",
   "id": "6f675715",
   "metadata": {},
   "source": [
    "8. Write a python program to find factorial of a number using function.\n"
   ]
  },
  {
   "cell_type": "code",
   "execution_count": 7,
   "id": "eba817b2",
   "metadata": {},
   "outputs": [
    {
     "name": "stdout",
     "output_type": "stream",
     "text": [
      "Enter The Number: 4\n",
      "The Factorial of 4 is 24.\n"
     ]
    }
   ],
   "source": [
    "def fact(num):\n",
    "    f = 1\n",
    "    for i in range(1,num+1):\n",
    "        f = f*i\n",
    "    print(f\"The Factorial of {num} is {f}.\")\n",
    "d=int(input(\"Enter The Number: \"))\n",
    "fact(d)"
   ]
  },
  {
   "cell_type": "markdown",
   "id": "e543ca7a",
   "metadata": {},
   "source": [
    "9. Write a python program to find factorial of a number using function using recursion"
   ]
  },
  {
   "cell_type": "code",
   "execution_count": 4,
   "id": "d39bb854",
   "metadata": {},
   "outputs": [
    {
     "name": "stdout",
     "output_type": "stream",
     "text": [
      "Enter Number which Factorial you want to find: 4\n",
      "The Factorial Of 4 is 24.\n"
     ]
    }
   ],
   "source": [
    "def fact(n):\n",
    "    if n == 1:\n",
    "        return n\n",
    "    else:\n",
    "        return n * fact(n-1)\n",
    "n=int(input(\"Enter Number which Factorial you want to find: \"))\n",
    "print(f\"The Factorial Of {n} is {fact(n)}.\")"
   ]
  },
  {
   "cell_type": "markdown",
   "id": "40fd47ef",
   "metadata": {},
   "source": [
    "10. Fibonacci Series."
   ]
  },
  {
   "cell_type": "code",
   "execution_count": 13,
   "id": "fb6e59dc",
   "metadata": {},
   "outputs": [
    {
     "name": "stdout",
     "output_type": "stream",
     "text": [
      "Enter The NUmber: 6\n",
      "The Fibonacci Series is: 0 1 1 2 3 5 "
     ]
    }
   ],
   "source": [
    "def fibonacci(num):\n",
    "    a=0\n",
    "    b=1\n",
    "    print(\"The Fibonacci Series is: \",end=\"\")\n",
    "    for i in range(0,num):\n",
    "        if(i <= 1):\n",
    "            c = i\n",
    "        else:\n",
    "            c = a + b\n",
    "            a = b\n",
    "            b = c\n",
    "        print(c,end=\" \")  \n",
    "d=int(input(\"Enter The NUmber: \"))\n",
    "fibonacci(d)"
   ]
  }
 ],
 "metadata": {
  "kernelspec": {
   "display_name": "Python 3 (ipykernel)",
   "language": "python",
   "name": "python3"
  },
  "language_info": {
   "codemirror_mode": {
    "name": "ipython",
    "version": 3
   },
   "file_extension": ".py",
   "mimetype": "text/x-python",
   "name": "python",
   "nbconvert_exporter": "python",
   "pygments_lexer": "ipython3",
   "version": "3.9.12"
  }
 },
 "nbformat": 4,
 "nbformat_minor": 5
}
