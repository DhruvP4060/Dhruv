{
 "cells": [
  {
   "cell_type": "markdown",
   "id": "de78791b",
   "metadata": {},
   "source": [
    "1. Python Program to Remove an Item from Tuple\n"
   ]
  },
  {
   "cell_type": "code",
   "execution_count": 13,
   "id": "b03a57b0",
   "metadata": {},
   "outputs": [
    {
     "name": "stdout",
     "output_type": "stream",
     "text": [
      "(1, 2, 4, 5, 6, 7, 8, 9, 10)\n"
     ]
    }
   ],
   "source": [
    "tup1=(1,2,3,4,5,6,7,8,9,10)\n",
    "list1=list(tup1)\n",
    "list1.remove(3)\n",
    "print(tuple(list1))"
   ]
  },
  {
   "cell_type": "markdown",
   "id": "c719a857",
   "metadata": {},
   "source": [
    "2. Python Program to Slice a Tuple\n"
   ]
  },
  {
   "cell_type": "code",
   "execution_count": 19,
   "id": "99de58d2",
   "metadata": {},
   "outputs": [
    {
     "name": "stdout",
     "output_type": "stream",
     "text": [
      "(3, 4, 5, 6)\n"
     ]
    }
   ],
   "source": [
    "tup1=(1,2,3,4,5,6,7,8,9,10)\n",
    "print(tup1[2:6])"
   ]
  },
  {
   "cell_type": "markdown",
   "id": "a860cb41",
   "metadata": {},
   "source": [
    "3. Python Program to Unpack Tuple Items\n"
   ]
  },
  {
   "cell_type": "code",
   "execution_count": 16,
   "id": "e0b3e308",
   "metadata": {},
   "outputs": [
    {
     "name": "stdout",
     "output_type": "stream",
     "text": [
      "1\n",
      "2\n",
      "3\n",
      "4\n",
      "5\n"
     ]
    }
   ],
   "source": [
    "tup1=(1,2,3,4,5)\n",
    "one=tup1[0]\n",
    "two=tup1[1]\n",
    "three=tup1[2]\n",
    "four=tup1[3]\n",
    "five=tup1[4]\n",
    "print(one)\n",
    "print(two)\n",
    "print(three)\n",
    "print(four)\n",
    "print(five)"
   ]
  },
  {
   "cell_type": "markdown",
   "id": "e70074bc",
   "metadata": {},
   "source": [
    "4. Python Program to Create a Tuple with Numbers\n"
   ]
  },
  {
   "cell_type": "code",
   "execution_count": 4,
   "id": "8da5f0a1",
   "metadata": {},
   "outputs": [
    {
     "name": "stdout",
     "output_type": "stream",
     "text": [
      "Enter Numbers in Tuple: 1 2 3 4 5\n",
      "(1, 2, 3, 4, 5)\n"
     ]
    }
   ],
   "source": [
    "tup1=input(\"Enter Numbers in Tuple: \").split()\n",
    "list1=list(tup1)\n",
    "list2 = []\n",
    "for i in list1:\n",
    "    list2.append(int(i))\n",
    "print(tuple(list2))"
   ]
  },
  {
   "cell_type": "markdown",
   "id": "3a9f7432",
   "metadata": {},
   "source": [
    "5. Python Program to Check Item exists in Tuple\n"
   ]
  },
  {
   "cell_type": "code",
   "execution_count": 5,
   "id": "e4b37b05",
   "metadata": {},
   "outputs": [
    {
     "name": "stdout",
     "output_type": "stream",
     "text": [
      "Enter items in Tuple: apple banana mango kiwi\n",
      "Enter items to check in Tuple: mango\n",
      "('apple', 'banana', 'mango', 'kiwi')\n",
      "Item is Exists.\n"
     ]
    }
   ],
   "source": [
    "tup1=input(\"Enter items in Tuple: \").split()\n",
    "item=input(\"Enter items to check in Tuple: \")\n",
    "print(tuple(tup1))\n",
    "if item in tup1:\n",
    "    print(\"Item is Exists.\")\n",
    "else:\n",
    "    print(\"Item is not Exists.\")"
   ]
  },
  {
   "cell_type": "markdown",
   "id": "348da551",
   "metadata": {},
   "source": [
    "6. Python Program to Find Largest and Smallest Item in a Tuple\n"
   ]
  },
  {
   "cell_type": "code",
   "execution_count": 15,
   "id": "f366decc",
   "metadata": {},
   "outputs": [
    {
     "name": "stdout",
     "output_type": "stream",
     "text": [
      "Enter Numbers in Tuple: 99 76 45 34 67\n",
      "The Largest Item In Tuple is 99.\n",
      "The Smallest Item In Tuple is 34.\n"
     ]
    }
   ],
   "source": [
    "tup1=input(\"Enter Numbers in Tuple: \").split()\n",
    "list1=list(tup1)\n",
    "list2 = []\n",
    "for i in list1:\n",
    "    list2.append(int(i))\n",
    "list2.sort()\n",
    "print(f\"The Largest Item In Tuple is {list2[-1]}.\")\n",
    "print(f\"The Smallest Item In Tuple is {list2[0]}.\")"
   ]
  },
  {
   "cell_type": "markdown",
   "id": "6ddbb85a",
   "metadata": {},
   "source": [
    "7. Python Program to Find Sum of Even and Odd Numbers in Tuple\n"
   ]
  },
  {
   "cell_type": "code",
   "execution_count": 14,
   "id": "a2263837",
   "metadata": {},
   "outputs": [
    {
     "name": "stdout",
     "output_type": "stream",
     "text": [
      "Enter Numbers in Tuple: 1 2 3 4 5\n",
      "(1, 2, 3, 4, 5)\n",
      "The sum of Even NUmbers is 6.\n",
      "The sum of Odd NUmbers is 9.\n"
     ]
    }
   ],
   "source": [
    "tup1=input(\"Enter Numbers in Tuple: \").split()\n",
    "list1=list(tup1)\n",
    "list2 = []\n",
    "sum1=0\n",
    "sum2=0\n",
    "for i in list1:\n",
    "    list2.append(int(i))\n",
    "print(tuple(list2))\n",
    "for i in list2:\n",
    "    if i%2==0:\n",
    "        sum1=sum1+i\n",
    "    else:\n",
    "        sum2=sum2+i\n",
    "print(f\"The sum of Even NUmbers is {sum1}.\")\n",
    "print(f\"The sum of Odd NUmbers is {sum2}.\")"
   ]
  },
  {
   "cell_type": "markdown",
   "id": "2aa2d8fe",
   "metadata": {},
   "source": [
    "8. Python Program to Find Sum of Tuple Items\n"
   ]
  },
  {
   "cell_type": "code",
   "execution_count": 13,
   "id": "81d47251",
   "metadata": {},
   "outputs": [
    {
     "name": "stdout",
     "output_type": "stream",
     "text": [
      "Enter Numbers in Tuple: 1 2 3 4 5\n",
      "(1, 2, 3, 4, 5)\n",
      "The sum of Tuple items is 15.\n"
     ]
    }
   ],
   "source": [
    "tup1=input(\"Enter Numbers in Tuple: \").split()\n",
    "list1=list(tup1)\n",
    "list2 = []\n",
    "sum1=0\n",
    "for i in list1:\n",
    "    list2.append(int(i))\n",
    "print(tuple(list2))\n",
    "for i in list2:\n",
    "    sum1=sum1+i\n",
    "print(f\"The sum of Tuple items is {sum1}.\")"
   ]
  },
  {
   "cell_type": "markdown",
   "id": "ac34cf9b",
   "metadata": {},
   "source": [
    "9. Python Program to Reverse Tuple\n"
   ]
  },
  {
   "cell_type": "code",
   "execution_count": 11,
   "id": "d81bb832",
   "metadata": {},
   "outputs": [
    {
     "name": "stdout",
     "output_type": "stream",
     "text": [
      "Enter Numbers in Tuple: a b c d\n",
      "Reverse Tuple: ('d', 'c', 'b', 'a')\n"
     ]
    }
   ],
   "source": [
    "tup1=input(\"Enter Numbers in Tuple: \").split()\n",
    "print(\"Reverse Tuple:\",tuple(tup1[::-1]))"
   ]
  },
  {
   "cell_type": "markdown",
   "id": "3042acce",
   "metadata": {},
   "source": [
    "10. Count Positive and Negative Numbers in Tuple\n"
   ]
  },
  {
   "cell_type": "code",
   "execution_count": 9,
   "id": "e897daf0",
   "metadata": {},
   "outputs": [
    {
     "name": "stdout",
     "output_type": "stream",
     "text": [
      "Enter Numbers in Tuple: 1 -2 3 4 -5\n",
      "(1, -2, 3, 4, -5)\n",
      "The Positive Numbers are 3 in Tuple.\n",
      "The Negative Numbers are 2 in Tuple.\n"
     ]
    }
   ],
   "source": [
    "tup1=input(\"Enter Numbers in Tuple: \").split()\n",
    "list1=list(tup1)\n",
    "list2 = []\n",
    "count1=0\n",
    "count2=0\n",
    "for i in list1:\n",
    "    list2.append(int(i))\n",
    "print(tuple(list2))\n",
    "for i in list2:\n",
    "    if i>=0:\n",
    "        count1+=1\n",
    "    else:\n",
    "        count2+=1\n",
    "print(f\"The Positive Numbers are {count1} in Tuple.\")\n",
    "print(f\"The Negative Numbers are {count2} in Tuple.\")"
   ]
  },
  {
   "cell_type": "markdown",
   "id": "56c06c06",
   "metadata": {},
   "source": [
    "11. Count Even and Odd Numbers in Tuple\n"
   ]
  },
  {
   "cell_type": "code",
   "execution_count": 8,
   "id": "9a98a2b3",
   "metadata": {},
   "outputs": [
    {
     "name": "stdout",
     "output_type": "stream",
     "text": [
      "Enter Numbers in Tuple: 1 2 3 4 5 6\n",
      "(1, 2, 3, 4, 5, 6)\n",
      "The Even Numbers are 3 in Tuple.\n",
      "The Odd Numbers are 3 in Tuple.\n"
     ]
    }
   ],
   "source": [
    "tup1=input(\"Enter Numbers in Tuple: \").split()\n",
    "list1=list(tup1)\n",
    "list2 = []\n",
    "count1=0\n",
    "count2=0\n",
    "for i in list1:\n",
    "    list2.append(int(i))\n",
    "print(tuple(list2))\n",
    "for i in list2:\n",
    "    if i%2==0:\n",
    "        count1+=1\n",
    "    else:\n",
    "        count2+=1\n",
    "print(f\"The Even Numbers are {count1} in Tuple.\")\n",
    "print(f\"The Odd Numbers are {count2} in Tuple.\")"
   ]
  },
  {
   "cell_type": "markdown",
   "id": "c8c589af",
   "metadata": {},
   "source": [
    "12. Python Program to Print Even Numbers in Tuple\n"
   ]
  },
  {
   "cell_type": "code",
   "execution_count": 7,
   "id": "5a71fb94",
   "metadata": {},
   "outputs": [
    {
     "name": "stdout",
     "output_type": "stream",
     "text": [
      "Enter Numbers in Tuple: 11 22 33 44 55\n",
      "(11, 22, 33, 44, 55)\n",
      "Even Numbers: (22, 44)\n"
     ]
    }
   ],
   "source": [
    "tup1=input(\"Enter Numbers in Tuple: \").split()\n",
    "list1=list(tup1)\n",
    "list2 = []\n",
    "list3=[]\n",
    "for i in list1:\n",
    "    list2.append(int(i))\n",
    "print(tuple(list2))\n",
    "for i in list2:\n",
    "    if i%2==0:\n",
    "        list3.append(i)\n",
    "print(f\"Even Numbers:\",tuple(list3))"
   ]
  },
  {
   "cell_type": "markdown",
   "id": "3607bebc",
   "metadata": {},
   "source": [
    "13. Python Program to Print Negative Numbers in Tuple\n"
   ]
  },
  {
   "cell_type": "code",
   "execution_count": 6,
   "id": "8e7d6098",
   "metadata": {},
   "outputs": [
    {
     "name": "stdout",
     "output_type": "stream",
     "text": [
      "Enter Numbers in Tuple: 1 -2 -3 -4 5 6 -7 8 -9\n",
      "(1, -2, -3, -4, 5, 6, -7, 8, -9)\n",
      "Neagtive Numbers: (-2, -3, -4, -7, -9)\n"
     ]
    }
   ],
   "source": [
    "tup1=input(\"Enter Numbers in Tuple: \").split()\n",
    "list1=list(tup1)\n",
    "list2 = []\n",
    "list3=[]\n",
    "for i in list1:\n",
    "    list2.append(int(i))\n",
    "print(tuple(list2))\n",
    "for i in list2:\n",
    "    if i<0:\n",
    "        list3.append(i)\n",
    "print(f\"Neagtive Numbers:\",tuple(list3))"
   ]
  },
  {
   "cell_type": "markdown",
   "id": "255cd598",
   "metadata": {},
   "source": [
    "14. Python Program to Get Tuple Items\n"
   ]
  },
  {
   "cell_type": "code",
   "execution_count": 22,
   "id": "0307507b",
   "metadata": {},
   "outputs": [
    {
     "name": "stdout",
     "output_type": "stream",
     "text": [
      "Enter items in Tuple: apple mango orange banana kiwi\n",
      "Enter items to Get From Tuple: mango\n",
      "The Item You got by Tuple is mango.\n"
     ]
    }
   ],
   "source": [
    "tup1=input(\"Enter items in Tuple: \").split()\n",
    "item=input(\"Enter items to Get From Tuple: \")\n",
    "for i in tup1:\n",
    "    if i==item:\n",
    "        print(f\"The Item You got by Tuple is {i}.\")"
   ]
  },
  {
   "cell_type": "markdown",
   "id": "54444ad9",
   "metadata": {},
   "source": [
    "15. Python Program to Print Positive Numbers in Tuple\n"
   ]
  },
  {
   "cell_type": "code",
   "execution_count": 23,
   "id": "8da943fa",
   "metadata": {},
   "outputs": [
    {
     "name": "stdout",
     "output_type": "stream",
     "text": [
      "Enter Numbers in Tuple: 1 -2 3 4 -5 6\n",
      "(1, -2, 3, 4, -5, 6)\n",
      "Positive Numbers: (1, 3, 4, 6)\n"
     ]
    }
   ],
   "source": [
    "tup1=input(\"Enter Numbers in Tuple: \").split()\n",
    "list1=list(tup1)\n",
    "list2 = []\n",
    "list3=[]\n",
    "for i in list1:\n",
    "    list2.append(int(i))\n",
    "print(tuple(list2))\n",
    "for i in list2:\n",
    "    if i>=0:\n",
    "        list3.append(i)\n",
    "print(f\"Positive Numbers:\",tuple(list3))"
   ]
  },
  {
   "cell_type": "markdown",
   "id": "b9dea008",
   "metadata": {},
   "source": [
    "16. Python Program to Print Odd Numbers in Tuple\n"
   ]
  },
  {
   "cell_type": "code",
   "execution_count": 24,
   "id": "a610c20a",
   "metadata": {},
   "outputs": [
    {
     "name": "stdout",
     "output_type": "stream",
     "text": [
      "Enter Numbers in Tuple: 1 2 3 4 5\n",
      "(1, 2, 3, 4, 5)\n",
      "Odd Numbers: (1, 3, 5)\n"
     ]
    }
   ],
   "source": [
    "tup1=input(\"Enter Numbers in Tuple: \").split()\n",
    "list1=list(tup1)\n",
    "list2 = []\n",
    "list3=[]\n",
    "for i in list1:\n",
    "    list2.append(int(i))\n",
    "print(tuple(list2))\n",
    "for i in list2:\n",
    "    if i%2!=0:\n",
    "        list3.append(i)\n",
    "print(f\"Odd Numbers:\",tuple(list3))"
   ]
  },
  {
   "cell_type": "markdown",
   "id": "d2f3a8e7",
   "metadata": {},
   "source": [
    "17. Python Program to Find Smallest Item in a Tuple\n"
   ]
  },
  {
   "cell_type": "code",
   "execution_count": 25,
   "id": "e535b3c6",
   "metadata": {},
   "outputs": [
    {
     "name": "stdout",
     "output_type": "stream",
     "text": [
      "Enter Numbers in Tuple: 98 56 45 34 67 87\n",
      "The Smallest Item In Tuple is 34.\n"
     ]
    }
   ],
   "source": [
    "tup1=input(\"Enter Numbers in Tuple: \").split()\n",
    "list1=list(tup1)\n",
    "list2 = []\n",
    "for i in list1:\n",
    "    list2.append(int(i))\n",
    "list2.sort()\n",
    "print(f\"The Smallest Item In Tuple is {list2[0]}.\")"
   ]
  },
  {
   "cell_type": "markdown",
   "id": "68710f8f",
   "metadata": {},
   "source": [
    "18. Python Program to Find Largest Item in a Tuple\n"
   ]
  },
  {
   "cell_type": "code",
   "execution_count": 26,
   "id": "5fa03532",
   "metadata": {},
   "outputs": [
    {
     "name": "stdout",
     "output_type": "stream",
     "text": [
      "Enter Numbers in Tuple: 23 45 67 54 87 33\n",
      "The Largest Item In Tuple is 87.\n"
     ]
    }
   ],
   "source": [
    "tup1=input(\"Enter Numbers in Tuple: \").split()\n",
    "list1=list(tup1)\n",
    "list2 = []\n",
    "for i in list1:\n",
    "    list2.append(int(i))\n",
    "list2.sort()\n",
    "print(f\"The Largest Item In Tuple is {list2[-1]}.\")"
   ]
  },
  {
   "cell_type": "markdown",
   "id": "74d0949c",
   "metadata": {},
   "source": [
    "19. Python Program to Print Tuple Items\n"
   ]
  },
  {
   "cell_type": "code",
   "execution_count": 35,
   "id": "56642f00",
   "metadata": {},
   "outputs": [
    {
     "name": "stdout",
     "output_type": "stream",
     "text": [
      "Enter Numbers in Tuple: BMW Mercedes Porsche Ferrari Audi\n",
      "('BMW', 'Mercedes', 'Porsche', 'Ferrari', 'Audi') \n",
      "\n",
      "BMW,Mercedes,Porsche,Ferrari,Audi,"
     ]
    }
   ],
   "source": [
    "tup1=input(\"Enter Numbers in Tuple: \").split()\n",
    "print(tuple(tup1),\"\\n\")\n",
    "for i in tup1:\n",
    "    print(i,end=\",\")"
   ]
  },
  {
   "cell_type": "markdown",
   "id": "d7616fd2",
   "metadata": {},
   "source": [
    "20. Python Program to Find Tuple Length"
   ]
  },
  {
   "cell_type": "code",
   "execution_count": 38,
   "id": "a0b17448",
   "metadata": {},
   "outputs": [
    {
     "name": "stdout",
     "output_type": "stream",
     "text": [
      "Enter Numbers in Tuple: a b c d r f g\n",
      "('a', 'b', 'c', 'd', 'r', 'f', 'g')\n",
      "The Length of Tuple is 7.\n"
     ]
    }
   ],
   "source": [
    "tup1=input(\"Enter Numbers in Tuple: \").split()\n",
    "tup2=tuple(tup1)\n",
    "print(tup2)\n",
    "print(f\"The Length of Tuple is {len(tup2)}.\")"
   ]
  }
 ],
 "metadata": {
  "kernelspec": {
   "display_name": "Python 3 (ipykernel)",
   "language": "python",
   "name": "python3"
  },
  "language_info": {
   "codemirror_mode": {
    "name": "ipython",
    "version": 3
   },
   "file_extension": ".py",
   "mimetype": "text/x-python",
   "name": "python",
   "nbconvert_exporter": "python",
   "pygments_lexer": "ipython3",
   "version": "3.9.12"
  }
 },
 "nbformat": 4,
 "nbformat_minor": 5
}
