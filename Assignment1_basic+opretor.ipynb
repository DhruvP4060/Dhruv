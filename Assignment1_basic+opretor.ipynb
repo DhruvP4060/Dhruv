{
 "cells": [
  {
   "cell_type": "markdown",
   "id": "470a05f9",
   "metadata": {},
   "source": [
    "1. Python program to add Two Numbers"
   ]
  },
  {
   "cell_type": "code",
   "execution_count": 3,
   "id": "dce5cad2",
   "metadata": {},
   "outputs": [
    {
     "name": "stdout",
     "output_type": "stream",
     "text": [
      "Enter 1st number: 2\n",
      "Enter 2nd number: 2\n",
      "The sum of 2 and 2 is:  4\n"
     ]
    }
   ],
   "source": [
    "num1=int(input(\"Enter 1st number: \"))\n",
    "num2=int(input(\"Enter 2nd number: \"))\n",
    "sum1=num1+num2\n",
    "print(f\"The Addtion of {num1} and {num2} is: \",sum1)"
   ]
  },
  {
   "cell_type": "markdown",
   "id": "add23ccc",
   "metadata": {},
   "source": [
    "2. Python program to subtract two numbers"
   ]
  },
  {
   "cell_type": "code",
   "execution_count": 5,
   "id": "febca27d",
   "metadata": {},
   "outputs": [
    {
     "name": "stdout",
     "output_type": "stream",
     "text": [
      "Enter 1st number: 2\n",
      "Enter 2nd number: 5\n",
      "The subtraction of 2 and 5 is:  -3\n"
     ]
    }
   ],
   "source": [
    "num1=int(input(\"Enter 1st number: \"))\n",
    "num2=int(input(\"Enter 2nd number: \"))\n",
    "sub1=num1-num2\n",
    "print(f\"The subtraction of {num1} and {num2} is: \",sub1)"
   ]
  },
  {
   "cell_type": "markdown",
   "id": "085a7272",
   "metadata": {},
   "source": [
    "3. Python Program to Multiply Two numbers"
   ]
  },
  {
   "cell_type": "code",
   "execution_count": 2,
   "id": "0635cbbb",
   "metadata": {},
   "outputs": [
    {
     "name": "stdout",
     "output_type": "stream",
     "text": [
      "Enter 1st number: 2\n",
      "Enter 2nd number: 2\n",
      "The Multiplication of 2 and 2 is:  4\n"
     ]
    }
   ],
   "source": [
    "num1=int(input(\"Enter 1st number: \"))\n",
    "num2=int(input(\"Enter 2nd number: \"))\n",
    "mul1=num1*num2\n",
    "print(f\"The Multiplication of {num1} and {num2} is: \",mul1)"
   ]
  },
  {
   "cell_type": "markdown",
   "id": "36711764",
   "metadata": {},
   "source": [
    "4. Python program for Arithmetic Operations"
   ]
  },
  {
   "cell_type": "code",
   "execution_count": 3,
   "id": "6d4c269f",
   "metadata": {},
   "outputs": [
    {
     "name": "stdout",
     "output_type": "stream",
     "text": [
      "0.Addition\n",
      "1.Subtraction\n",
      "2.Multiplication\n",
      "3.Division\n",
      "Select Which Arithmetic Operations You Want to do: 2\n",
      "Enter 1st number: 2\n",
      "Enter 2nd number: 2\n",
      "The Answer is:  4\n"
     ]
    }
   ],
   "source": [
    "print('''0.Addition\n",
    "1.Subtraction\n",
    "2.Multiplication\n",
    "3.Division''')\n",
    "choice=input(\"Select Which Arithmetic Operations You Want to do: \")\n",
    "num1=int(input(\"Enter 1st number: \"))\n",
    "num2=int(input(\"Enter 2nd number: \"))\n",
    "ans=0\n",
    "if choice==\"0\":\n",
    "    ans=num1+num2\n",
    "elif choice==\"1\":\n",
    "    ans=num1-num2\n",
    "elif choice==\"2\":\n",
    "    ans=num1*num2\n",
    "elif choice==\"3\":\n",
    "    ans=num1/num2\n",
    "print(\"The Answer is: \",ans)"
   ]
  },
  {
   "cell_type": "markdown",
   "id": "3f759313",
   "metadata": {},
   "source": [
    "5. Python program to print Calendar"
   ]
  },
  {
   "cell_type": "code",
   "execution_count": null,
   "id": "bb38184c",
   "metadata": {},
   "outputs": [],
   "source": []
  },
  {
   "cell_type": "markdown",
   "id": "47c38a3c",
   "metadata": {},
   "source": [
    "6. Python program to find Cube of a Number"
   ]
  },
  {
   "cell_type": "code",
   "execution_count": 11,
   "id": "38b684a5",
   "metadata": {},
   "outputs": [
    {
     "name": "stdout",
     "output_type": "stream",
     "text": [
      "Enter Number To Find Cube: 3\n",
      "The Cube Of 3 is:  27\n"
     ]
    }
   ],
   "source": [
    "num1=int(input(\"Enter Number To Find Cube: \"))\n",
    "cube=num1*num1*num1\n",
    "print(f\"The Cube Of {num1} is: \",cube)"
   ]
  },
  {
   "cell_type": "markdown",
   "id": "2b86151d",
   "metadata": {},
   "source": [
    "7. Python program to find Largest of 2 Numbers"
   ]
  },
  {
   "cell_type": "code",
   "execution_count": 4,
   "id": "9ee62d10",
   "metadata": {},
   "outputs": [
    {
     "name": "stdout",
     "output_type": "stream",
     "text": [
      "Enter 1st number: 2\n",
      "Enter 2nd number: 4\n",
      "The 4 is Greater\n"
     ]
    }
   ],
   "source": [
    "num1=int(input(\"Enter 1st number: \"))\n",
    "num2=int(input(\"Enter 2nd number: \"))\n",
    "if num1>num2:\n",
    "    print(f\"The {num1} is Greater\")\n",
    "else:\n",
    "    print(f\"The {num2} is Greater\")"
   ]
  },
  {
   "cell_type": "markdown",
   "id": "42c640e2",
   "metadata": {},
   "source": [
    "8. Python program to find Largest of 3 Numbers"
   ]
  },
  {
   "cell_type": "code",
   "execution_count": 16,
   "id": "80ac4184",
   "metadata": {},
   "outputs": [
    {
     "name": "stdout",
     "output_type": "stream",
     "text": [
      "Enter 1st number: 1\n",
      "Enter 2nd number: 2\n",
      "Enter 3rd number: 3\n",
      "The 3 is Greater\n"
     ]
    }
   ],
   "source": [
    "num1=int(input(\"Enter 1st number: \"))\n",
    "num2=int(input(\"Enter 2nd number: \"))\n",
    "num3=int(input(\"Enter 3rd number: \"))\n",
    "if num1>num2 and num1>num3:\n",
    "    print(f\"The {num1} is Greater\")\n",
    "elif num2>num1 and num2>num3:\n",
    "    print(f\"The {num2} is Greater\")\n",
    "elif num3>num1 and num3>num2:\n",
    "    print(f\"The {num3} is Greater\")"
   ]
  },
  {
   "cell_type": "markdown",
   "id": "8d1d8dca",
   "metadata": {},
   "source": [
    "9. Python program to Print Natural number 1 to N"
   ]
  },
  {
   "cell_type": "code",
   "execution_count": 5,
   "id": "d80452fe",
   "metadata": {},
   "outputs": [
    {
     "name": "stdout",
     "output_type": "stream",
     "text": [
      "Enter start number of Range: 1\n",
      "Enter End number of Range: 10\n",
      "1 2 3 4 5 6 7 8 9 10 "
     ]
    }
   ],
   "source": [
    "num1=int(input(\"Enter start number of Range: \"))\n",
    "num2=int(input(\"Enter End number of Range: \"))\n",
    "for i in range(num1,num2+1):\n",
    "    print(i,end=\" \")"
   ]
  },
  {
   "cell_type": "markdown",
   "id": "d9e5acff",
   "metadata": {},
   "source": [
    "10.Python program for Leap Year"
   ]
  },
  {
   "cell_type": "code",
   "execution_count": 5,
   "id": "d0dccbfd",
   "metadata": {},
   "outputs": [
    {
     "name": "stdout",
     "output_type": "stream",
     "text": [
      "Enter Year To Check Leap Year Or not: 2020\n",
      "2020 is a Leap Year.\n"
     ]
    }
   ],
   "source": [
    "y=int(input(\"Enter Year To Check Leap Year Or not: \"))\n",
    "if y%4==0 or y%100==0 or y%400==0:\n",
    "    print(f\"{y} is a Leap Year.\" )\n",
    "else:\n",
    "    print(f\"{y} is not a Leap Year.\" )"
   ]
  },
  {
   "cell_type": "markdown",
   "id": "64614012",
   "metadata": {},
   "source": [
    "11.Python program to find Odd or Even"
   ]
  },
  {
   "cell_type": "code",
   "execution_count": 18,
   "id": "e4d1ed1f",
   "metadata": {},
   "outputs": [
    {
     "name": "stdout",
     "output_type": "stream",
     "text": [
      "Enter number: 3\n",
      "The Number 3 is Odd.\n"
     ]
    }
   ],
   "source": [
    "num1=int(input(\"Enter number: \"))\n",
    "if num1%2==0:\n",
    "    print(f\"The NUmber {num1} is Even.\")\n",
    "else:\n",
    "    print(f\"The Number {num1} is Odd.\")"
   ]
  },
  {
   "cell_type": "markdown",
   "id": "61128834",
   "metadata": {},
   "source": [
    "12.Python program to print Even Numbers from 1 to 100"
   ]
  },
  {
   "cell_type": "code",
   "execution_count": 25,
   "id": "43b22875",
   "metadata": {},
   "outputs": [
    {
     "name": "stdout",
     "output_type": "stream",
     "text": [
      "2 4 6 8 10 12 14 16 18 20 22 24 26 28 30 32 34 36 38 40 42 44 46 48 50 52 54 56 58 60 62 64 66 68 70 72 74 76 78 80 82 84 86 88 90 92 94 96 98 100 "
     ]
    }
   ],
   "source": [
    "for i in range(1,101):\n",
    "    if i%2==0:\n",
    "        print(i,end=\" \")"
   ]
  },
  {
   "cell_type": "markdown",
   "id": "d974755f",
   "metadata": {},
   "source": [
    "13.Python program to print Odd Numbers from 1 to 100"
   ]
  },
  {
   "cell_type": "code",
   "execution_count": 26,
   "id": "87a2d964",
   "metadata": {},
   "outputs": [
    {
     "name": "stdout",
     "output_type": "stream",
     "text": [
      "1 3 5 7 9 11 13 15 17 19 21 23 25 27 29 31 33 35 37 39 41 43 45 47 49 51 53 55 57 59 61 63 65 67 69 71 73 75 77 79 81 83 85 87 89 91 93 95 97 99 "
     ]
    }
   ],
   "source": [
    "for i in range(1,101):\n",
    "    if i%2!=0:\n",
    "        print(i,end=\" \")"
   ]
  },
  {
   "cell_type": "markdown",
   "id": "1f9166cf",
   "metadata": {},
   "source": [
    "14.Python Program to Print Negative Numbers in a Range"
   ]
  },
  {
   "cell_type": "code",
   "execution_count": 10,
   "id": "4bc110ea",
   "metadata": {},
   "outputs": [
    {
     "name": "stdout",
     "output_type": "stream",
     "text": [
      "Enter start number of Range: -11\n",
      "Enter End number of Range: -1\n",
      "-11 -10 -9 -8 -7 -6 -5 -4 -3 -2 "
     ]
    }
   ],
   "source": [
    "num1=int(input(\"Enter start number of Range: \"))\n",
    "num2=int(input(\"Enter End number of Range: \"))\n",
    "for i in range(num1,num2):\n",
    "    if i<0:\n",
    "        print(i,end=\" \")"
   ]
  },
  {
   "cell_type": "markdown",
   "id": "671dabf8",
   "metadata": {},
   "source": [
    "15.Python Program to Print Positive Numbers in a Range"
   ]
  },
  {
   "cell_type": "code",
   "execution_count": 11,
   "id": "0a33860a",
   "metadata": {},
   "outputs": [
    {
     "name": "stdout",
     "output_type": "stream",
     "text": [
      "Enter start number of Range: 0\n",
      "Enter End number of Range: 10\n",
      "1 2 3 4 5 6 7 8 9 "
     ]
    }
   ],
   "source": [
    "num1=int(input(\"Enter start number of Range: \"))\n",
    "num2=int(input(\"Enter End number of Range: \"))\n",
    "for i in range(num1,num2):\n",
    "    if i>0:\n",
    "        print(i,end=\" \")"
   ]
  },
  {
   "cell_type": "markdown",
   "id": "3adfe08e",
   "metadata": {},
   "source": [
    "16.Python program to find Positive or Negative"
   ]
  },
  {
   "cell_type": "code",
   "execution_count": 2,
   "id": "621f3edf",
   "metadata": {},
   "outputs": [
    {
     "name": "stdout",
     "output_type": "stream",
     "text": [
      "Enter a NUmber: -2\n",
      "The Number is Negative.\n"
     ]
    }
   ],
   "source": [
    "num1=int(input(\"Enter a NUmber: \"))\n",
    "if num1>=0:\n",
    "     print(\"The Number is Positive.\")\n",
    "else:\n",
    "     print(\"The Number is Negative.\")"
   ]
  },
  {
   "cell_type": "markdown",
   "id": "b09c3c8a",
   "metadata": {},
   "source": [
    "17.Python program to find Profit Or Loss"
   ]
  },
  {
   "cell_type": "code",
   "execution_count": 10,
   "id": "01069afe",
   "metadata": {},
   "outputs": [
    {
     "name": "stdout",
     "output_type": "stream",
     "text": [
      "Enter Net price:200\n",
      "Enter sell price:195\n",
      "The seller Get Profit of 5/- Rs.\n"
     ]
    }
   ],
   "source": [
    "Netprice=int(input(\"Enter Net price:\"))\n",
    "sellprice=int(input(\"Enter sell price:\"))\n",
    "profit=Netprice-sellprice\n",
    "loss=sellprice-Netprice\n",
    "if Netprice>sellprice:\n",
    "    print(f\"The seller Get Profit of {profit}/-\")\n",
    "else:\n",
    "    print(f\"The seller Get Loss of {loss}/- Rs.\")"
   ]
  },
  {
   "cell_type": "markdown",
   "id": "c0d9dbc7",
   "metadata": {},
   "source": [
    "18.Python program to find Square of a Number"
   ]
  },
  {
   "cell_type": "code",
   "execution_count": 8,
   "id": "6a7f9f01",
   "metadata": {},
   "outputs": [
    {
     "name": "stdout",
     "output_type": "stream",
     "text": [
      "Enter Number To Find Cube: 2\n",
      "The Cube Of 2 is:  4\n"
     ]
    }
   ],
   "source": [
    "num1=int(input(\"Enter Number To Find Cube: \"))\n",
    "Square=num1*num1\n",
    "print(f\"The Cube Of {num1} is: \",Square)"
   ]
  }
 ],
 "metadata": {
  "kernelspec": {
   "display_name": "Python 3 (ipykernel)",
   "language": "python",
   "name": "python3"
  },
  "language_info": {
   "codemirror_mode": {
    "name": "ipython",
    "version": 3
   },
   "file_extension": ".py",
   "mimetype": "text/x-python",
   "name": "python",
   "nbconvert_exporter": "python",
   "pygments_lexer": "ipython3",
   "version": "3.9.12"
  }
 },
 "nbformat": 4,
 "nbformat_minor": 5
}
