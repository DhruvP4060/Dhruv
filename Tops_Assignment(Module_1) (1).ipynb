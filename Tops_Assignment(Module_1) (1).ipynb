{
 "cells": [
  {
   "cell_type": "markdown",
   "id": "5bca3e17",
   "metadata": {},
   "source": [
    "## MODULE-1: Python"
   ]
  },
  {
   "cell_type": "markdown",
   "id": "eab5f9f4",
   "metadata": {},
   "source": [
    "1. Write a python program to sum of the first n positive integers.\n"
   ]
  },
  {
   "cell_type": "code",
   "execution_count": 3,
   "id": "958c9a97",
   "metadata": {},
   "outputs": [
    {
     "name": "stdout",
     "output_type": "stream",
     "text": [
      "Enter start number of Range: 1\n",
      "Enter End number of Range: 10\n",
      "1 2 3 4 5 6 7 8 9 10 \n",
      "sum of the positive integers: 55\n"
     ]
    }
   ],
   "source": [
    "num1=int(input(\"Enter start number of Range: \"))\n",
    "num2=int(input(\"Enter End number of Range: \"))\n",
    "sum1=0\n",
    "for i in range(num1,num2+1):\n",
    "    sum1=sum1+i\n",
    "    print(i,end=' ')\n",
    "print(\"\\n\"\"sum of the positive integers:\",sum1)"
   ]
  },
  {
   "cell_type": "markdown",
   "id": "07cbc667",
   "metadata": {},
   "source": [
    "2. Write a Python program to count occurrences of a substring in a string.\n"
   ]
  },
  {
   "cell_type": "code",
   "execution_count": 7,
   "id": "7afbf8e2",
   "metadata": {},
   "outputs": [
    {
     "name": "stdout",
     "output_type": "stream",
     "text": [
      "Enter The String: dhruv parmar\n",
      "Enter string to check in main string: r\n",
      "Occurrences of Substring in a string is  3\n"
     ]
    }
   ],
   "source": [
    "str1=input(\"Enter The String: \")\n",
    "check=input(\"Enter string to check in main string: \")\n",
    "print(f\"Occurrences of Substring in a string is \",str1.count(check))"
   ]
  },
  {
   "cell_type": "markdown",
   "id": "4fd9b374",
   "metadata": {},
   "source": [
    "3. Write a Python program to count the occurrences of each word in a given sentence.\n"
   ]
  },
  {
   "cell_type": "code",
   "execution_count": 11,
   "id": "bfe8d51a",
   "metadata": {},
   "outputs": [
    {
     "name": "stdout",
     "output_type": "stream",
     "text": [
      "Enter The String: banana\n",
      "b=1,a=3,n=2,a=3,n=2,a=3,"
     ]
    }
   ],
   "source": [
    "str1=input(\"Enter The String: \")\n",
    "for i in str1:\n",
    "    str2=str1.count(i)\n",
    "    print(str(i)+\"=\"+str(str2),end=\",\")"
   ]
  },
  {
   "cell_type": "markdown",
   "id": "2311691f",
   "metadata": {},
   "source": [
    "4. Write a Python program to get a single string from two given strings, separated by a space and swap the first two characters of each string."
   ]
  },
  {
   "cell_type": "code",
   "execution_count": 25,
   "id": "2bfa48c6",
   "metadata": {},
   "outputs": [
    {
     "name": "stdout",
     "output_type": "stream",
     "text": [
      "Enter string1: dhruv\n",
      "Enter string2: parmar\n",
      "paruv dhrmar\n"
     ]
    }
   ],
   "source": [
    "str1=input(\"Enter string1: \")\n",
    "str2=input(\"Enter string2: \")\n",
    "str3=str2[0:2]+str1[2]+str1[3:]\n",
    "str4=str1[0:2]+str2[2]+str2[3:]\n",
    "str5=str3+' '+str4\n",
    "print(str5)"
   ]
  },
  {
   "cell_type": "markdown",
   "id": "b9a7678f",
   "metadata": {},
   "source": [
    "5. Write a Python program to add 'ing' at the end of a given string (length should be at least 3).\n",
    "* If the given string already ends with 'ing' then add 'ly' instead If the string length of the given string is less than 3, leave it unchanged"
   ]
  },
  {
   "cell_type": "code",
   "execution_count": 27,
   "id": "fa3f48f9",
   "metadata": {},
   "outputs": [
    {
     "name": "stdout",
     "output_type": "stream",
     "text": [
      "Enter string: being\n",
      "beingly\n"
     ]
    }
   ],
   "source": [
    "str1=input(\"Enter string: \")\n",
    "if len(str1)>=3:\n",
    "    \n",
    "    if str1.endswith('ing')==True:\n",
    "        print(str1+\"ly\")    \n",
    "    else: \n",
    "        print(str1+\"ing\")\n",
    "else:\n",
    "    print(str1)"
   ]
  },
  {
   "cell_type": "markdown",
   "id": "4d49a80b",
   "metadata": {},
   "source": [
    "6. Write a Python program to find the first appearance of the substring 'not' and 'poor' from a given string, if 'not' follows the 'poor', replace the whole 'not'...'poor' substring with 'good'.\n",
    "* Return the resulting string"
   ]
  },
  {
   "cell_type": "code",
   "execution_count": 29,
   "id": "f36ee7b4",
   "metadata": {},
   "outputs": [
    {
     "name": "stdout",
     "output_type": "stream",
     "text": [
      "Enter string1: i am not poor.\n",
      "i am good.\n"
     ]
    }
   ],
   "source": [
    "str1=input(\"Enter string1: \")\n",
    "if \"not\" or \"poor\" in str1:\n",
    "    if \"not poor\" in str1:\n",
    "        print(str1.replace(\"not poor\",\"good\")) \n",
    "    else:\n",
    "        print(str1)\n",
    "else:\n",
    "    print(\"There are no 'not' and 'poor' in the string\")"
   ]
  },
  {
   "cell_type": "markdown",
   "id": "6da87283",
   "metadata": {},
   "source": [
    "7. Program to find Greatest Common Divisor of two numbers.\n",
    "* For example, the GCD of 20 and 28 is 4 and GCD of 98 and 56 is 14."
   ]
  },
  {
   "cell_type": "code",
   "execution_count": 10,
   "id": "ef3f7499",
   "metadata": {},
   "outputs": [
    {
     "name": "stdout",
     "output_type": "stream",
     "text": [
      "Enter a Number: 20\n",
      "Enter a Number: 28\n",
      "The GCD of 20 and 28 is 4.\n"
     ]
    }
   ],
   "source": [
    "num1=int(input(\"Enter a Number: \"))\n",
    "num2=int(input(\"Enter a Number: \"))\n",
    "for i in range(1,num1):\n",
    "    if num1%i==0 and num2%i==0:\n",
    "        gcd1=i\n",
    "print(f\"The GCD of {num1} and {num2} is {gcd1}.\")"
   ]
  },
  {
   "cell_type": "markdown",
   "id": "798bdf5f",
   "metadata": {},
   "source": [
    "8. Write a Python program to check whether a list contains a sublist.\n"
   ]
  },
  {
   "cell_type": "code",
   "execution_count": 10,
   "id": "aa349607",
   "metadata": {},
   "outputs": [
    {
     "name": "stdout",
     "output_type": "stream",
     "text": [
      "1. list element\n",
      "2. sublist element\n",
      "3. exit\n",
      "Enter choice: 1\n",
      "Enter list element : 2\n",
      "Enter choice: 1\n",
      "Enter list element : 3\n",
      "Enter choice: 1\n",
      "Enter list element : 4\n",
      "Enter choice: 2\n",
      "Enter sublist element2\n",
      "Enter choice: 2\n",
      "Enter sublist element3\n",
      "Enter choice: 2\n",
      "Enter sublist element4\n",
      "Enter choice: 3\n",
      "[2, 3, 4, [2, 3, 4]]\n",
      "True\n"
     ]
    }
   ],
   "source": [
    "list1 = [1,2,3,4,5,[1,2,3,4]]\n",
    "list2 = []\n",
    "\n",
    "\n",
    "print(\"\"\"1. list element\n",
    "2. sublist element\n",
    "3. exit\"\"\")\n",
    "\n",
    "n = 1\n",
    "choice=0\n",
    "list3=[]\n",
    "while choice != 3:\n",
    "    choice = int(input(\"Enter choice: \"))\n",
    "    if choice == 1:\n",
    "        n = int(input(\"Enter list element : \"))\n",
    "        list2.append(n)\n",
    "    elif choice == 2:\n",
    "        n2 = int(input(\"Enter sublist element\"))\n",
    "        list3.append(n2)\n",
    "    else:\n",
    "        break\n",
    "list2.append(list3)\n",
    "print(list2)\n",
    "for i in list2:\n",
    "    if type(i)==list:\n",
    "        print(\"True\")"
   ]
  },
  {
   "cell_type": "markdown",
   "id": "f198c504",
   "metadata": {},
   "source": [
    "9. Write a Python program to find the second smallest number in a list.\n"
   ]
  },
  {
   "cell_type": "code",
   "execution_count": 32,
   "id": "0ec0a29d",
   "metadata": {},
   "outputs": [
    {
     "name": "stdout",
     "output_type": "stream",
     "text": [
      "How Many Number you want to enter in a list : 5\n",
      "Enter number in a list : 45\n",
      "Enter number in a list : 56\n",
      "Enter number in a list : 33\n",
      "Enter number in a list : 67\n",
      "Enter number in a list : 78\n",
      "Sorted list is : [33, 45, 56, 67, 78]\n",
      "The second smallest value of the list is:  45\n"
     ]
    }
   ],
   "source": [
    "list1 = []\n",
    "n = int(input(\"How Many Number you want to enter in a list : \"))\n",
    "for i in range(n):\n",
    "    num = int(input(\"Enter number in a list : \"))\n",
    "    list1.append(num)\n",
    "list1.sort()\n",
    "print(\"Sorted list is :\",list1)\n",
    "print(\"The second smallest value of the list is: \",list1[1])"
   ]
  },
  {
   "cell_type": "markdown",
   "id": "e7309954",
   "metadata": {},
   "source": [
    "10. Write a Python program to get unique values from a list.\n"
   ]
  },
  {
   "cell_type": "code",
   "execution_count": 1,
   "id": "1bf158d9",
   "metadata": {},
   "outputs": [
    {
     "name": "stdout",
     "output_type": "stream",
     "text": [
      "Enter a list : 1 1 2 4 5 5 6 7 8 8\n",
      "Original List is :  ['1', '1', '2', '4', '5', '5', '6', '7', '8', '8']\n",
      "List of unique values is :  ['1', '5', '4', '7', '8', '2', '6']\n"
     ]
    }
   ],
   "source": [
    "list1 = []\n",
    "n = input(\"Enter a list : \").split()\n",
    "list1.extend(n)\n",
    "print(\"Original List is : \",list1)\n",
    "list2 = set(list1)                      \n",
    "print(\"List of unique values is : \",list(list2))"
   ]
  },
  {
   "cell_type": "markdown",
   "id": "014597f0",
   "metadata": {},
   "source": [
    "11. Write a Python program to unzip a list of tuples into individual lists.\n"
   ]
  },
  {
   "cell_type": "code",
   "execution_count": 1,
   "id": "d7c9c190",
   "metadata": {},
   "outputs": [
    {
     "name": "stdout",
     "output_type": "stream",
     "text": [
      "[5, 1.2] [1, 2, 3, 4] ['key1'] "
     ]
    }
   ],
   "source": [
    "x = [(5,1.2),([1,2,3,4]),({\"key1\":\"value1\"})]\n",
    "for i in x:\n",
    "    print(list(i),end=' ')"
   ]
  },
  {
   "cell_type": "markdown",
   "id": "99af0dea",
   "metadata": {},
   "source": [
    "12. Write a Python program to convert a list of tuples into a dictionary\n"
   ]
  },
  {
   "cell_type": "code",
   "execution_count": 41,
   "id": "426d5bfe",
   "metadata": {},
   "outputs": [
    {
     "name": "stdout",
     "output_type": "stream",
     "text": [
      "{'key1': [1, 2, 3]}\n"
     ]
    }
   ],
   "source": [
    "x = [(\"key1\",1),(\"key1\",2),(\"key1\",3)]\n",
    "y=dict()\n",
    "for i,j in x:\n",
    "    y.setdefault(i,[]).append(j)\n",
    "print(y)    "
   ]
  },
  {
   "cell_type": "markdown",
   "id": "cb25ab0e",
   "metadata": {},
   "source": [
    "13. Write a Python program to sort a dictionary (ascending /descending) by value.\n"
   ]
  },
  {
   "cell_type": "code",
   "execution_count": 42,
   "id": "3445c13f",
   "metadata": {},
   "outputs": [
    {
     "name": "stdout",
     "output_type": "stream",
     "text": [
      "Sorted dictionary in ascending form is : [(2, 'two'), (3, 'three'), (4, 'three')]\n",
      "Sorted dictionary in descending form is : [(4, 'three'), (3, 'three'), (2, 'two')]\n"
     ]
    }
   ],
   "source": [
    "dict1 = {4: 'three',2: 'two',3: 'three'}\n",
    "dict2 = sorted(dict1.items())\n",
    "dict3 = sorted(dict1.items(),reverse=True)\n",
    "print(\"Sorted dictionary in ascending form is :\",dict2)\n",
    "print(\"Sorted dictionary in descending form is :\",dict3)"
   ]
  },
  {
   "cell_type": "markdown",
   "id": "6e33e2ac",
   "metadata": {},
   "source": [
    "14. Write a Python program to find the highest 3 values in a dictionary.\n"
   ]
  },
  {
   "cell_type": "code",
   "execution_count": 44,
   "id": "618d4cbd",
   "metadata": {},
   "outputs": [
    {
     "name": "stdout",
     "output_type": "stream",
     "text": [
      "[10, 9, 7]\n"
     ]
    }
   ],
   "source": [
    "dict1 = {\"A\":10,\"B\":2,\"H\":4,\"K\":7,\"T\":9}\n",
    "sort1 = sorted(dict1.values(),reverse=True)\n",
    "print(sort1[:3])"
   ]
  },
  {
   "cell_type": "markdown",
   "id": "def7977d",
   "metadata": {},
   "source": [
    "15. Given a number n, write a python program to make and print the list of Fibonacci series up to n.\n",
    "* Input : n=7\n",
    "* Hint : first 7 numbers in the series\n",
    "* Expected output :\n",
    "* First few Fibonacci numbers are 0, 1, 1, 2, 3, 5, 8, 13"
   ]
  },
  {
   "cell_type": "code",
   "execution_count": 4,
   "id": "32cd4e55",
   "metadata": {},
   "outputs": [
    {
     "name": "stdout",
     "output_type": "stream",
     "text": [
      "Enter The NUmber: 7\n",
      "0 1 1 2 3 5 8 13 "
     ]
    }
   ],
   "source": [
    "n=int(input(\"Enter The NUmber: \"))\n",
    "a=0\n",
    "b=1\n",
    "for i in range(0,n+1):\n",
    "    if i <= 1:\n",
    "        c = i\n",
    "    else:\n",
    "        c = a + b\n",
    "        a = b\n",
    "        b = c\n",
    "    print(c,end=\" \")  "
   ]
  },
  {
   "cell_type": "markdown",
   "id": "c8f8cb2b",
   "metadata": {},
   "source": [
    "16. Counting the frequencies in a list using a dictionary in Python.\n",
    "* Input : [1, 1, 1, 5, 5, 3, 1, 3, 3, 1,4, 4, 4, 2, 2, 2, 2]\n",
    "* Expected output : 1 : 5 , 2 : 4 , 3 : 3 , 4 : 3 , 5 : 2"
   ]
  },
  {
   "cell_type": "code",
   "execution_count": 47,
   "id": "0fcaf181",
   "metadata": {},
   "outputs": [
    {
     "name": "stdout",
     "output_type": "stream",
     "text": [
      "{1: 5, 5: 2, 3: 3, 4: 3, 2: 4}\n"
     ]
    }
   ],
   "source": [
    "list1 = [1, 1, 1, 5, 5, 3, 1, 3, 3, 1, 4, 4, 4, 2, 2, 2, 2]\n",
    "list2 = []\n",
    "dict1 = {}\n",
    "for i in list1:\n",
    "    if i not in list2:\n",
    "        list2.append(i)\n",
    "for j in list2:\n",
    "    c = 0\n",
    "    for i in list1:\n",
    "        if j == i:\n",
    "            c += 1\n",
    "        else:\n",
    "            continue\n",
    "        dict1[i] = c\n",
    "print(dict1)"
   ]
  },
  {
   "cell_type": "markdown",
   "id": "e52d55ff",
   "metadata": {},
   "source": [
    "17. Write a python program using function to find the sum of odd series and even series\n",
    "* Odd series: 12/ 1! + 32/ 3! + 52/ 5!+……n\n",
    "* Even series: 22/ 2! + 42/ 4! + 62/ 6!+……n"
   ]
  },
  {
   "cell_type": "code",
   "execution_count": 4,
   "id": "57ab7289",
   "metadata": {},
   "outputs": [
    {
     "name": "stdout",
     "output_type": "stream",
     "text": [
      "Enter sequences : 3\n",
      "1^2/1! + 3^2/3! + 5^2/5! + = 2.7083333333333335\n",
      "Enter sequences : 3\n",
      "2^2/2! + 4^2/4! + 6^2/6! + = 2.7166666666666663\n"
     ]
    }
   ],
   "source": [
    "def fact(n):\n",
    "    if n == 0 or n == 1:\n",
    "        return 1\n",
    "    else:\n",
    "        return n*fact(n-1)\n",
    "n = int(input(\"Enter sequences : \"))\n",
    "sum1 = 0\n",
    "for i in range(1,2*n,2):\n",
    "    sum1 = sum1 + i**2/fact(i)\n",
    "    print(f\"{i}^2/{i}! +\",end = \" \")\n",
    "print(\"=\",sum1)\n",
    "n1 = int(input(\"Enter sequences : \"))\n",
    "sum2 = 0\n",
    "for j in range(2,(2*n1+1),2):\n",
    "    sum2 = sum2 + j**2/fact(j)\n",
    "    print(f\"{j}^2/{j}! +\",end = \" \")\n",
    "print(\"=\",sum2)"
   ]
  },
  {
   "cell_type": "markdown",
   "id": "11526125",
   "metadata": {},
   "source": [
    "18. Python Program to Find Factorial of Number Using Recursion\n"
   ]
  },
  {
   "cell_type": "code",
   "execution_count": 50,
   "id": "16ba3110",
   "metadata": {},
   "outputs": [
    {
     "name": "stdout",
     "output_type": "stream",
     "text": [
      "Enter Number which Factorial you want to find : 6\n",
      "720\n"
     ]
    }
   ],
   "source": [
    "def fact(n):\n",
    "    if n == 0:\n",
    "        return 1\n",
    "    else:\n",
    "        return n * fact(n-1)\n",
    "n=int(input(\"Enter Number which Factorial you want to find : \"))\n",
    "print(fact(n))"
   ]
  },
  {
   "cell_type": "markdown",
   "id": "b9d88d49",
   "metadata": {},
   "source": [
    "19. Write a Python function that takes a list and returns a new list with unique elements of the first list.\n"
   ]
  },
  {
   "cell_type": "code",
   "execution_count": 52,
   "id": "191eaab5",
   "metadata": {},
   "outputs": [
    {
     "name": "stdout",
     "output_type": "stream",
     "text": [
      "Enter a list : 1 2 2 3 4 5 5 6 7 7 8\n",
      "Original List is :  ['1', '2', '2', '3', '4', '5', '5', '6', '7', '7', '8']\n",
      "List of unique values is :  ['5', '2', '6', '4', '1', '8', '3', '7']\n"
     ]
    }
   ],
   "source": [
    "list1 = []\n",
    "n = input(\"Enter a list : \").split()\n",
    "list1.extend(n)\n",
    "print(\"Original List is : \",list1)\n",
    "list2 = set(list1)                      \n",
    "print(\"List of unique values is : \",list(list2))"
   ]
  },
  {
   "cell_type": "markdown",
   "id": "c677b873",
   "metadata": {},
   "source": [
    "20. Mini project :\n",
    "* Problem Statement : Password Generator\n",
    "* Make a program to generate a strong password using the input given by the user. To generate a password, randomly take some words from the user input and then include numbers, special characters and capital letters to generate the password. Also, keep a check that password length is more than 8 characters.\n",
    "* Note: Include Exception handling wherever required. Also, make a ‘User’ class and store the details like user id, name and password of each user as a tuple. "
   ]
  },
  {
   "cell_type": "code",
   "execution_count": 8,
   "id": "9392c946",
   "metadata": {},
   "outputs": [
    {
     "name": "stdout",
     "output_type": "stream",
     "text": [
      "Enter Password : dkparmar\n",
      "A%r$rmrDp\n"
     ]
    }
   ],
   "source": [
    "import random\n",
    "word = input(\"Enter Password : \")\n",
    "digits = \"0123456789\"\n",
    "punctuation = \"!@#$%^&*()\"\n",
    "characters =  list(digits + punctuation + word + word.upper())\n",
    "def generate_password(x):\n",
    "    password = []\n",
    "    random.shuffle(characters)\n",
    "    length = random.randrange(8,12)\n",
    "    if len(x) >= 8:\n",
    "        password.extend(random.choices(characters, k=random.randrange(8,12)))\n",
    "        print(\"\".join(password))\n",
    "    else:\n",
    "        print(\"Password length should be at least 8.\")\n",
    "\n",
    "generate_password(word)"
   ]
  }
 ],
 "metadata": {
  "kernelspec": {
   "display_name": "Python 3 (ipykernel)",
   "language": "python",
   "name": "python3"
  },
  "language_info": {
   "codemirror_mode": {
    "name": "ipython",
    "version": 3
   },
   "file_extension": ".py",
   "mimetype": "text/x-python",
   "name": "python",
   "nbconvert_exporter": "python",
   "pygments_lexer": "ipython3",
   "version": "3.9.12"
  }
 },
 "nbformat": 4,
 "nbformat_minor": 5
}
