{
 "cells": [
  {
   "cell_type": "markdown",
   "id": "af283316",
   "metadata": {},
   "source": [
    "1. Inverted Pyramid of Numbers\n",
    "* 1 1 1 1 1\n",
    "* 2 2 2 2\n",
    "*  3 3 3\n",
    "*  4 4\n",
    "* 5"
   ]
  },
  {
   "cell_type": "code",
   "execution_count": 9,
   "id": "4292b89e",
   "metadata": {},
   "outputs": [
    {
     "name": "stdout",
     "output_type": "stream",
     "text": [
      "Enter range: 5\n",
      "1 1 1 1 1 \n",
      "2 2 2 2 \n",
      "3 3 3 \n",
      "4 4 \n",
      "5 \n"
     ]
    }
   ],
   "source": [
    "n=int(input(\"Enter range: \"))\n",
    "for i in range(1,n+1):\n",
    "    for j in range(n,i-1,-1):\n",
    "        print(i,end=\" \")\n",
    "    print()"
   ]
  },
  {
   "cell_type": "markdown",
   "id": "122c1b17",
   "metadata": {},
   "source": [
    "2. Half Pyramid Pattern of Numbers\n",
    "* 1\n",
    "* 1 2\n",
    "* 1 2 3\n",
    "* 1 2 3 4\n",
    "* 1 2 3 4 5\n"
   ]
  },
  {
   "cell_type": "code",
   "execution_count": 16,
   "id": "be3a6cc0",
   "metadata": {},
   "outputs": [
    {
     "name": "stdout",
     "output_type": "stream",
     "text": [
      "Enter range: 5\n",
      "1 \n",
      "1 2 \n",
      "1 2 3 \n",
      "1 2 3 4 \n",
      "1 2 3 4 5 \n"
     ]
    }
   ],
   "source": [
    "n=int(input(\"Enter range: \"))\n",
    "for i in range(1,n+1):\n",
    "    for j in range(1,i+1):\n",
    "        print(j,end=\" \")\n",
    "    print()"
   ]
  },
  {
   "cell_type": "markdown",
   "id": "150cee09",
   "metadata": {},
   "source": [
    "3. Inverted Pyramid of Descending Numbers\n",
    "* 5 5 5 5 5\n",
    "* 4 4 4 4\n",
    "* 3 3 3\n",
    "* 2 2\n",
    "* 1"
   ]
  },
  {
   "cell_type": "code",
   "execution_count": 19,
   "id": "f18c03af",
   "metadata": {},
   "outputs": [
    {
     "name": "stdout",
     "output_type": "stream",
     "text": [
      "Enter range: 5\n",
      "5 5 5 5 5 \n",
      "4 4 4 4 \n",
      "3 3 3 \n",
      "2 2 \n",
      "1 \n"
     ]
    }
   ],
   "source": [
    "n=int(input(\"Enter range: \"))\n",
    "for i in range(n,0,-1):\n",
    "    for j in range(i):\n",
    "        print(i,end=\" \")\n",
    "    print()"
   ]
  },
  {
   "cell_type": "markdown",
   "id": "0321734e",
   "metadata": {},
   "source": [
    "4. Inverted Pyramid of the Same Digit\n",
    "* 5 5 5 5 5\n",
    "* 5 5 5 5\n",
    "* 5 5 5\n",
    "* 5 5\n",
    "* 5"
   ]
  },
  {
   "cell_type": "code",
   "execution_count": 21,
   "id": "0f460e43",
   "metadata": {},
   "outputs": [
    {
     "name": "stdout",
     "output_type": "stream",
     "text": [
      "Enter range: 5\n",
      "5 5 5 5 5 \n",
      "5 5 5 5 \n",
      "5 5 5 \n",
      "5 5 \n",
      "5 \n"
     ]
    }
   ],
   "source": [
    "n=int(input(\"Enter range: \"))\n",
    "for i in range(n,0,-1):\n",
    "    for j in range(i):\n",
    "        print(\"5\",end=\" \")\n",
    "    print()"
   ]
  },
  {
   "cell_type": "markdown",
   "id": "e3f1f402",
   "metadata": {},
   "source": [
    "5. Reverse Pyramid of Numbers\n",
    "* 1\n",
    "* 2 1\n",
    "* 3 2 1\n",
    "* 4 3 2 1\n",
    "* 5 4 3 2 1"
   ]
  },
  {
   "cell_type": "code",
   "execution_count": 29,
   "id": "7fe0bb04",
   "metadata": {},
   "outputs": [
    {
     "name": "stdout",
     "output_type": "stream",
     "text": [
      "Enter range: 5\n",
      "1 \n",
      "2 1 \n",
      "3 2 1 \n",
      "4 3 2 1 \n",
      "5 4 3 2 1 \n"
     ]
    }
   ],
   "source": [
    "n=int(input(\"Enter range: \"))\n",
    "for i in range(1,n+1):\n",
    "    for j in range(i,0,-1):\n",
    "        print(j,end=\" \")\n",
    "    print()"
   ]
  },
  {
   "cell_type": "markdown",
   "id": "e4ec75ec",
   "metadata": {},
   "source": [
    "6. Inverted Half Pyramid Number Pattern\n",
    "* 0 1 2 3 4 5\n",
    "* 0 1 2 3 4\n",
    "* 0 1 2 3\n",
    "* 0 1 2\n",
    "* 0 1"
   ]
  },
  {
   "cell_type": "code",
   "execution_count": 37,
   "id": "8817a074",
   "metadata": {},
   "outputs": [
    {
     "name": "stdout",
     "output_type": "stream",
     "text": [
      "Enter range: 5\n",
      "0 1 2 3 4 5 \n",
      "0 1 2 3 4 \n",
      "0 1 2 3 \n",
      "0 1 2 \n",
      "0 1 \n"
     ]
    }
   ],
   "source": [
    "n=int(input(\"Enter range: \"))\n",
    "for i in range(n+1,1,-1):\n",
    "    for j in range(0,i):\n",
    "        print(j,end=\" \")\n",
    "    print()"
   ]
  },
  {
   "cell_type": "markdown",
   "id": "a9a20728",
   "metadata": {},
   "source": [
    "7. Pyramid of Natural Numbers Less Than 10\n",
    "* 1\n",
    "* 2 3 4\n",
    "* 5 6 7 8 9"
   ]
  },
  {
   "cell_type": "code",
   "execution_count": 40,
   "id": "68467ba9",
   "metadata": {},
   "outputs": [
    {
     "name": "stdout",
     "output_type": "stream",
     "text": [
      "Enter range: 5\n",
      "1 \n",
      "2 3 4 \n",
      "5 6 7 8 9 \n"
     ]
    }
   ],
   "source": [
    "n=int(input(\"Enter range: \"))\n",
    "flag=1\n",
    "for i in range(1,n+1,2):\n",
    "    for j in range(1,i+1):\n",
    "        print(flag,end=\" \")\n",
    "        flag+=1\n",
    "    print()"
   ]
  },
  {
   "cell_type": "markdown",
   "id": "56582c89",
   "metadata": {},
   "source": [
    "8. Python Program to calculate Sum of Series 1²+2²+3²+….+n²"
   ]
  },
  {
   "cell_type": "code",
   "execution_count": 49,
   "id": "9584a836",
   "metadata": {},
   "outputs": [
    {
     "name": "stdout",
     "output_type": "stream",
     "text": [
      "Enter Range: 5\n",
      "1^2 + 2^2 + 3^2 + 4^2 + 5^2 + \n",
      "The Sum Of Series is 55.\n"
     ]
    }
   ],
   "source": [
    "n=int(input(\"Enter Range: \"))\n",
    "n1=0\n",
    "for i in range(1,n+1):\n",
    "    print(f\"{i}^2 +\",end=\" \")\n",
    "    n1=n1+i**2\n",
    "print(\"\\n\"f\"The Sum Of Series is {n1}.\")"
   ]
  },
  {
   "cell_type": "markdown",
   "id": "2f7a7d98",
   "metadata": {},
   "source": [
    "9. Python Program to check number is palindrome or not using While Loop"
   ]
  },
  {
   "cell_type": "code",
   "execution_count": 1,
   "id": "0cab6c41",
   "metadata": {},
   "outputs": [
    {
     "name": "stdout",
     "output_type": "stream",
     "text": [
      "Enter A String: dhruvvurhd\n",
      "The String is Palindrome.\n"
     ]
    }
   ],
   "source": [
    "str1=input(\"Enter A String: \")\n",
    "while str1==str1[::-1]:\n",
    "    print(\"The String is Palindrome.\")\n",
    "    break\n",
    "else:\n",
    "    print(\"The String is not Palindrome.\")"
   ]
  },
  {
   "cell_type": "markdown",
   "id": "ea946696",
   "metadata": {},
   "source": [
    "10. Python Program to display Natural Numbers within a range using while loop.\n"
   ]
  },
  {
   "cell_type": "code",
   "execution_count": 7,
   "id": "b997c199",
   "metadata": {},
   "outputs": [
    {
     "name": "stdout",
     "output_type": "stream",
     "text": [
      "Enter start number of Range: 5\n",
      "1 2 3 4 5 "
     ]
    }
   ],
   "source": [
    "num1=int(input(\"Enter start number of Range: \"))\n",
    "num2 = 1\n",
    "while num2<=num1:\n",
    "    print(num2,end=\" \")\n",
    "    num2+=1"
   ]
  },
  {
   "cell_type": "markdown",
   "id": "ad6f813e",
   "metadata": {},
   "source": [
    "11. Python Program to Sort List in Ascending Order without using Sort.\n",
    "* a. Using for loop\n",
    "* b. Using while loop"
   ]
  },
  {
   "cell_type": "code",
   "execution_count": 10,
   "id": "afecf278",
   "metadata": {},
   "outputs": [
    {
     "name": "stdout",
     "output_type": "stream",
     "text": [
      "Enter Total number List Elements: 3\n",
      "Enter List Element: 9\n",
      "Enter List Element: 5\n",
      "Enter List Element: 7\n",
      "[9, 5, 7]\n",
      "[5, 7, 9]\n"
     ]
    }
   ],
   "source": [
    "##Using for loop\n",
    "num1=int(input(\"Enter Total number List Elements: \"))\n",
    "list1=[]\n",
    "for i in range(1,num1+1):\n",
    "    n1=int(input(\"Enter List Element: \"))\n",
    "    list1.append(n1)\n",
    "print(list1)\n",
    "for i in range(0,len(list1)):\n",
    "    for j in range(i+1,len(list1)):\n",
    "        if list1[i]>list1[j]:\n",
    "            temp=list1[i]\n",
    "            list1[i]=list1[j]\n",
    "            list1[j]=temp\n",
    "print(list1)"
   ]
  },
  {
   "cell_type": "code",
   "execution_count": 9,
   "id": "4f020d49",
   "metadata": {},
   "outputs": [
    {
     "name": "stdout",
     "output_type": "stream",
     "text": [
      "Enter Total number List Elements: 3\n",
      "Enter List Element: 9\n",
      "Enter List Element: 5\n",
      "Enter List Element: 7\n",
      "[9, 5, 7]\n",
      "[5, 7, 9]\n"
     ]
    }
   ],
   "source": [
    "##Using while loop\n",
    "num1=int(input(\"Enter Total number List Elements: \"))\n",
    "list1=[]\n",
    "for i in range(1,num1+1):\n",
    "    n1=int(input(\"Enter List Element: \"))\n",
    "    list1.append(n1)\n",
    "i=0\n",
    "print(list1)\n",
    "while i<num1:\n",
    "    j=i+1\n",
    "    while j<num1:\n",
    "        if list1[i]>list1[j]:\n",
    "            temp=list1[i]\n",
    "            list1[i]=list1[j]\n",
    "            list1[j]=temp\n",
    "        j=j+1\n",
    "    i=i+1\n",
    "print(list1)"
   ]
  },
  {
   "cell_type": "markdown",
   "id": "9699253d",
   "metadata": {},
   "source": [
    "12. Python Fibonacci Series program using While Loop"
   ]
  },
  {
   "cell_type": "code",
   "execution_count": 7,
   "id": "81655052",
   "metadata": {},
   "outputs": [
    {
     "name": "stdout",
     "output_type": "stream",
     "text": [
      "Enter The Number: 5\n",
      "Fibonacci Series: 0 1 1 2 3 "
     ]
    }
   ],
   "source": [
    "n=int(input(\"Enter The Number: \"))\n",
    "a=0\n",
    "b=1\n",
    "c=0\n",
    "count=1\n",
    "print(\"Fibonacci Series:\",end=\" \")\n",
    "while count<=n:\n",
    "        print(c,end=\" \")    \n",
    "        count += 1\n",
    "        a = b\n",
    "        b = c\n",
    "        c = a + b"
   ]
  },
  {
   "cell_type": "markdown",
   "id": "d882f873",
   "metadata": {},
   "source": [
    "13. Python Program to Count Number of Digits in a Number using While Loop\n",
    "* Example : Individual digits in 370 = 3"
   ]
  },
  {
   "cell_type": "code",
   "execution_count": 4,
   "id": "3406c160",
   "metadata": {},
   "outputs": [
    {
     "name": "stdout",
     "output_type": "stream",
     "text": [
      "Enter Digits: 123\n",
      "3\n"
     ]
    }
   ],
   "source": [
    "n=int(input(\"Enter Digits: \"))\n",
    "count=0\n",
    "while n>0:\n",
    "        count+=1\n",
    "        n=n//10\n",
    "print(count)"
   ]
  },
  {
   "cell_type": "markdown",
   "id": "db789121",
   "metadata": {},
   "source": [
    "14. Python Program For Armstrong Number\n",
    "* Example of Armstrong number: \n",
    "* Individual digits in 370 = 3 \n",
    "* 370 = 3³ + 7³ + 0³= 27 + 343 + 0 = 370"
   ]
  },
  {
   "cell_type": "code",
   "execution_count": 13,
   "id": "a76e11de",
   "metadata": {},
   "outputs": [
    {
     "name": "stdout",
     "output_type": "stream",
     "text": [
      "Enter Number : 370\n",
      "3^3 + 7^3 + 0^3 +  : 370\n"
     ]
    }
   ],
   "source": [
    "n = input(\"Enter Number : \")\n",
    "sum1 = 0\n",
    "for i in range(len(n)):\n",
    "    sum1=sum1+int(n[i])**3\n",
    "    print(f\"{n[i]}^3 +\",end = \" \")\n",
    "print(\" :\",sum1)"
   ]
  }
 ],
 "metadata": {
  "kernelspec": {
   "display_name": "Python 3 (ipykernel)",
   "language": "python",
   "name": "python3"
  },
  "language_info": {
   "codemirror_mode": {
    "name": "ipython",
    "version": 3
   },
   "file_extension": ".py",
   "mimetype": "text/x-python",
   "name": "python",
   "nbconvert_exporter": "python",
   "pygments_lexer": "ipython3",
   "version": "3.9.12"
  }
 },
 "nbformat": 4,
 "nbformat_minor": 5
}
