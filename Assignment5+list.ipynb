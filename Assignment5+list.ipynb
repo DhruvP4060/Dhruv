{
 "cells": [
  {
   "cell_type": "markdown",
   "id": "a98ce017",
   "metadata": {},
   "source": [
    "1. Python Program to Calculate the Average of List Items\n"
   ]
  },
  {
   "cell_type": "code",
   "execution_count": 1,
   "id": "99a77508",
   "metadata": {},
   "outputs": [
    {
     "name": "stdout",
     "output_type": "stream",
     "text": [
      "Enter Element You Want To Add In A List: 1 2 3 4 5\n",
      "List:  ['1', '2', '3', '4', '5']\n",
      "The Average Of List is  7.5\n"
     ]
    }
   ],
   "source": [
    "list1=input(\"Enter Element You Want To Add In A List: \").split()\n",
    "print(\"List: \",list1)\n",
    "sum1=0\n",
    "for i in list1:\n",
    "    sum1=sum1+int(i)/2\n",
    "print(\"The Average Of List is \",sum1)"
   ]
  },
  {
   "cell_type": "markdown",
   "id": "de3f8516",
   "metadata": {},
   "source": [
    "2. Python Program to Print List Items Greater Than Average\n"
   ]
  },
  {
   "cell_type": "code",
   "execution_count": 8,
   "id": "4152ccb2",
   "metadata": {},
   "outputs": [
    {
     "name": "stdout",
     "output_type": "stream",
     "text": [
      "Enter Element You Want To Add In A List: 2 4 7\n",
      "List:  ['2', '4', '7']\n",
      "The Average Of List is  6.5\n",
      "The List Items Greater Than Average is  ['7']\n"
     ]
    }
   ],
   "source": [
    "list1=input(\"Enter Element You Want To Add In A List: \").split()\n",
    "print(\"List: \",list1)\n",
    "sum1=0\n",
    "list2=[]\n",
    "for i in list1:\n",
    "    sum1=sum1+int(i)/2\n",
    "for j in list1:\n",
    "    if int(j)>sum1:\n",
    "        list2.append(i)\n",
    "print(\"The Average Of List is \",sum1)\n",
    "print(\"The List Items Greater Than Average is \",list2)"
   ]
  },
  {
   "cell_type": "markdown",
   "id": "caf12925",
   "metadata": {},
   "source": [
    "3. Python Program to Print List Items at Even Position\n"
   ]
  },
  {
   "cell_type": "code",
   "execution_count": 10,
   "id": "fb0a4e82",
   "metadata": {},
   "outputs": [
    {
     "name": "stdout",
     "output_type": "stream",
     "text": [
      "Enter Element You Want To Add In A List: 1 2 3 4 5\n",
      "List:  ['1', '2', '3', '4', '5']\n",
      "List Items at Even Position is  ['1', '3', '5']\n"
     ]
    }
   ],
   "source": [
    "list1=input(\"Enter Element You Want To Add In A List: \").split()\n",
    "list2=[]\n",
    "print(\"List: \",list1)\n",
    "for i in list1:\n",
    "    if list1.index(i)%2==0:\n",
    "        list2.append(i)\n",
    "print(\"List Items at Even Position is \",list2)"
   ]
  },
  {
   "cell_type": "markdown",
   "id": "cde8df8b",
   "metadata": {},
   "source": [
    "4. Python Program to Print List Items at Odd Position\n"
   ]
  },
  {
   "cell_type": "code",
   "execution_count": 11,
   "id": "4c18ba13",
   "metadata": {},
   "outputs": [
    {
     "name": "stdout",
     "output_type": "stream",
     "text": [
      "Enter Element You Want To Add In A List: 1 2 3 4 5\n",
      "List:  ['1', '2', '3', '4', '5']\n",
      "List Items at Odd Position is  ['2', '4']\n"
     ]
    }
   ],
   "source": [
    "list1=input(\"Enter Element You Want To Add In A List: \").split()\n",
    "list2=[]\n",
    "print(\"List: \",list1)\n",
    "for i in list1:\n",
    "    if list1.index(i)%2!=0:\n",
    "        list2.append(i)\n",
    "print(\"List Items at Odd Position is \",list2)"
   ]
  },
  {
   "cell_type": "markdown",
   "id": "9afe94ba",
   "metadata": {},
   "source": [
    "5. Python program to Even Numbers in a List\n"
   ]
  },
  {
   "cell_type": "code",
   "execution_count": 12,
   "id": "8ff8f83c",
   "metadata": {},
   "outputs": [
    {
     "name": "stdout",
     "output_type": "stream",
     "text": [
      "Enter Element You Want To Add In A List: 1 2 3 4 5\n",
      "List:  ['1', '2', '3', '4', '5']\n",
      "Even Numbers in a List is ['2', '4']\n"
     ]
    }
   ],
   "source": [
    "list1=input(\"Enter Element You Want To Add In A List: \").split()\n",
    "list2=[]\n",
    "print(\"List: \",list1)\n",
    "for i in list1:\n",
    "    if int(i)%2==0:\n",
    "        list2.append(i)\n",
    "print(\"Even Numbers in a List is\",list2)"
   ]
  },
  {
   "cell_type": "markdown",
   "id": "a5c01a87",
   "metadata": {},
   "source": [
    "6. Python program to Print Odd List Numbers\n"
   ]
  },
  {
   "cell_type": "code",
   "execution_count": 13,
   "id": "4bfb19a3",
   "metadata": {},
   "outputs": [
    {
     "name": "stdout",
     "output_type": "stream",
     "text": [
      "Enter Element You Want To Add In A List: 1 2 3 4 5\n",
      "List:  ['1', '2', '3', '4', '5']\n",
      "Odd Numbers In A List:  ['1', '3', '5']\n"
     ]
    }
   ],
   "source": [
    "list1=input(\"Enter Element You Want To Add In A List: \").split()\n",
    "list2=[]\n",
    "print(\"List: \",list1)\n",
    "for i in list1:\n",
    "    if int(i)%2!=0:\n",
    "        list2.append(i)\n",
    "print(\"Odd Numbers In A List: \",list2)"
   ]
  },
  {
   "cell_type": "markdown",
   "id": "2bcf7679",
   "metadata": {},
   "source": [
    "7. Python program to Print Positive Numbers"
   ]
  },
  {
   "cell_type": "code",
   "execution_count": 14,
   "id": "f386c782",
   "metadata": {},
   "outputs": [
    {
     "name": "stdout",
     "output_type": "stream",
     "text": [
      "Enter Element You Want To Add In A List: 1 2 -4 -4 -5 6 -7\n",
      "List:  ['1', '2', '-4', '-4', '-5', '6', '-7']\n",
      "Positive Numbers In A List:  ['1', '2', '6']\n"
     ]
    }
   ],
   "source": [
    "list1=input(\"Enter Element You Want To Add In A List: \").split()\n",
    "list2=[]\n",
    "print(\"List: \",list1)\n",
    "for i in list1:\n",
    "    if int(i)>=0:\n",
    "        list2.append(i)\n",
    "print(\"Positive Numbers In A List: \",list2)"
   ]
  },
  {
   "cell_type": "markdown",
   "id": "8ae2abf2",
   "metadata": {},
   "source": [
    "8. Python program to Print Negative Numbers\n"
   ]
  },
  {
   "cell_type": "code",
   "execution_count": 16,
   "id": "7ac91c94",
   "metadata": {},
   "outputs": [
    {
     "name": "stdout",
     "output_type": "stream",
     "text": [
      "Enter Element You Want To Add In A List: 0 1 -2 3 -4 5 -6 7 8 -9 -10\n",
      "List:  ['0', '1', '-2', '3', '-4', '5', '-6', '7', '8', '-9', '-10']\n",
      "Negative Numbers In A List:  ['-2', '-4', '-6', '-9', '-10']\n"
     ]
    }
   ],
   "source": [
    "list1=input(\"Enter Element You Want To Add In A List: \").split()\n",
    "list2=[]\n",
    "print(\"List: \",list1)\n",
    "for i in list1:\n",
    "    if int(i)<0:\n",
    "        list2.append(i)\n",
    "print(\"Negative Numbers In A List: \",list2)"
   ]
  },
  {
   "cell_type": "markdown",
   "id": "a60b9ffb",
   "metadata": {},
   "source": [
    "9. Python program to Put Even and odd Numbers in Separate List\n"
   ]
  },
  {
   "cell_type": "code",
   "execution_count": 17,
   "id": "f2291d4d",
   "metadata": {},
   "outputs": [
    {
     "name": "stdout",
     "output_type": "stream",
     "text": [
      "Enter Element You Want To Add In A List: 1 2 3 4 5 6 7 8 9 10\n",
      "List:  ['1', '2', '3', '4', '5', '6', '7', '8', '9', '10']\n",
      "Even Numbers In A List:  ['2', '4', '6', '8', '10']\n",
      "Odd Numbers In A List:  ['1', '3', '5', '7', '9']\n"
     ]
    }
   ],
   "source": [
    "list1=input(\"Enter Element You Want To Add In A List: \").split()\n",
    "list2=[]\n",
    "list3=[]\n",
    "print(\"List: \",list1)\n",
    "for i in list1:\n",
    "    if int(i)%2==0:\n",
    "        list2.append(i)\n",
    "    elif int(i)%2!=0:\n",
    "        list3.append(i)\n",
    "print(\"Even Numbers In A List: \",list2)\n",
    "print(\"Odd Numbers In A List: \",list3)"
   ]
  },
  {
   "cell_type": "markdown",
   "id": "9beb9390",
   "metadata": {},
   "source": [
    "10.Python program to Put Positive and Negative Numbers in Separate List\n"
   ]
  },
  {
   "cell_type": "code",
   "execution_count": 18,
   "id": "1aed385a",
   "metadata": {},
   "outputs": [
    {
     "name": "stdout",
     "output_type": "stream",
     "text": [
      "Enter Element You Want To Add In A List: 1 -2 3 -4 5 -6 7 -8 9 -10\n",
      "List:  ['1', '-2', '3', '-4', '5', '-6', '7', '-8', '9', '-10']\n",
      "Positive Numbers In A List:  ['1', '3', '5', '7', '9']\n",
      "Negative Numbers In A List:  ['-2', '-4', '-6', '-8', '-10']\n"
     ]
    }
   ],
   "source": [
    "list1=input(\"Enter Element You Want To Add In A List: \").split()\n",
    "list2=[]\n",
    "list3=[]\n",
    "print(\"List: \",list1)\n",
    "for i in list1:\n",
    "    if int(i)>=0:\n",
    "        list2.append(i)\n",
    "    elif int(i)<0:\n",
    "        list3.append(i)\n",
    "print(\"Positive Numbers In A List: \",list2)\n",
    "print(\"Negative Numbers In A List: \",list3)"
   ]
  },
  {
   "cell_type": "markdown",
   "id": "e77485ca",
   "metadata": {},
   "source": [
    "11.Python program to Remove Duplicates from List\n"
   ]
  },
  {
   "cell_type": "code",
   "execution_count": 26,
   "id": "796e671e",
   "metadata": {},
   "outputs": [
    {
     "name": "stdout",
     "output_type": "stream",
     "text": [
      "Enter Element You Want To Add In A List: 1 1 2 2 3 3\n",
      "List:  ['1', '1', '2', '2', '3', '3']\n",
      "Final List:  ['1', '2', '3']\n"
     ]
    }
   ],
   "source": [
    "list1=input(\"Enter Element You Want To Add In A List: \").split()\n",
    "print(\"List: \",list1)\n",
    "list2=[]\n",
    "for i in list1:\n",
    "    if i not in list2:\n",
    "        list2.append(i)\n",
    "print(\"Final List: \",list2)"
   ]
  },
  {
   "cell_type": "markdown",
   "id": "ee1f407d",
   "metadata": {},
   "source": [
    "12.Python program to Remove Even Numbers in a List\n"
   ]
  },
  {
   "cell_type": "code",
   "execution_count": 5,
   "id": "999a3641",
   "metadata": {},
   "outputs": [
    {
     "name": "stdout",
     "output_type": "stream",
     "text": [
      "Enter Element You Want To Add In A List: 1 13 21 24 25 33 55 44\n",
      "List:  ['1', '13', '21', '24', '25', '33', '55', '44']\n",
      "Remove Even Numbers in a List is ['1', '13', '21', '25', '33', '55']\n"
     ]
    }
   ],
   "source": [
    "list1=input(\"Enter Element You Want To Add In A List: \").split()\n",
    "list2=[]\n",
    "print(\"List: \",list1)\n",
    "for i in list1:\n",
    "    if int(i)%2!=0:\n",
    "        list2.append(i)\n",
    "print(\"Remove Even Numbers in a List is\",list2)"
   ]
  },
  {
   "cell_type": "markdown",
   "id": "74e5292c",
   "metadata": {},
   "source": [
    "13.Python program to Reverse List Items\n"
   ]
  },
  {
   "cell_type": "code",
   "execution_count": 7,
   "id": "eec14040",
   "metadata": {},
   "outputs": [
    {
     "name": "stdout",
     "output_type": "stream",
     "text": [
      "Enter Element You Want To Add In A List: 1 2 3 4 5\n",
      "List:  ['1', '2', '3', '4', '5']\n",
      "Reverse List:  ['5', '4', '3', '2', '1']\n"
     ]
    }
   ],
   "source": [
    "list1=input(\"Enter Element You Want To Add In A List: \").split()\n",
    "print(\"List: \",list1)\n",
    "list1.reverse()\n",
    "print(\"Reverse List: \",list1)"
   ]
  },
  {
   "cell_type": "markdown",
   "id": "ef2cd177",
   "metadata": {},
   "source": [
    "14.Python program to Print Second Largest Number in a List\n"
   ]
  },
  {
   "cell_type": "code",
   "execution_count": 20,
   "id": "2386dbaf",
   "metadata": {},
   "outputs": [
    {
     "name": "stdout",
     "output_type": "stream",
     "text": [
      "Enter Element You Want To Add In A List: 1 6 3 8 2 5\n",
      "List:  ['1', '6', '3', '8', '2', '5']\n",
      "Second Largest Number in a List:  6\n"
     ]
    }
   ],
   "source": [
    "list1=input(\"Enter Element You Want To Add In A List: \").split()\n",
    "print(\"List: \",list1)\n",
    "list1.sort()\n",
    "print(\"Second Largest Number in a List: \",list1[-2])"
   ]
  },
  {
   "cell_type": "markdown",
   "id": "776d6a01",
   "metadata": {},
   "source": [
    "15.Python program to Sort List Items in Ascending Order\n"
   ]
  },
  {
   "cell_type": "code",
   "execution_count": 8,
   "id": "652754a3",
   "metadata": {},
   "outputs": [
    {
     "name": "stdout",
     "output_type": "stream",
     "text": [
      "Enter Element You Want To Add In A List: 1 5 3 7 4 2\n",
      "List:  ['1', '5', '3', '7', '4', '2']\n",
      "List in Ascending Order:  ['1', '2', '3', '4', '5', '7']\n"
     ]
    }
   ],
   "source": [
    "list1=input(\"Enter Element You Want To Add In A List: \").split()\n",
    "print(\"List: \",list1)\n",
    "list1.sort()\n",
    "print(\"List in Ascending Order: \",list1)"
   ]
  },
  {
   "cell_type": "markdown",
   "id": "d32283ae",
   "metadata": {},
   "source": [
    "16.Python Program to Sort List Items in Descending Order\n"
   ]
  },
  {
   "cell_type": "code",
   "execution_count": 10,
   "id": "ec640e37",
   "metadata": {},
   "outputs": [
    {
     "name": "stdout",
     "output_type": "stream",
     "text": [
      "Enter Element You Want To Add In A List: 1 5 2 9 4 7 2\n",
      "List:  ['1', '5', '2', '9', '4', '7', '2']\n",
      "List in Descending Order:  ['9', '7', '5', '4', '2', '2', '1']\n"
     ]
    }
   ],
   "source": [
    "list1=input(\"Enter Element You Want To Add In A List: \").split()\n",
    "print(\"List: \",list1)\n",
    "list1.sort(reverse=True)\n",
    "print(\"List in Descending Order: \",list1)"
   ]
  },
  {
   "cell_type": "markdown",
   "id": "66e334fe",
   "metadata": {},
   "source": [
    "17.Python program to Print Smallest Element in a List\n"
   ]
  },
  {
   "cell_type": "code",
   "execution_count": 1,
   "id": "8335e5ee",
   "metadata": {},
   "outputs": [
    {
     "name": "stdout",
     "output_type": "stream",
     "text": [
      "Enter Element You Want To Add In A List: 1 22 34 5 6 7\n",
      "List:  ['1', '22', '34', '5', '6', '7']\n",
      "Smallest Number in a List:  1\n"
     ]
    }
   ],
   "source": [
    "list1=input(\"Enter Element You Want To Add In A List: \").split()\n",
    "print(\"List: \",list1)\n",
    "list1.sort()\n",
    "print(\"Smallest Number in a List: \",list1[0])"
   ]
  },
  {
   "cell_type": "markdown",
   "id": "b63d3ba1",
   "metadata": {},
   "source": [
    "18.Python program to find Sum of Even and Odd Numbers in a List\n"
   ]
  },
  {
   "cell_type": "code",
   "execution_count": 15,
   "id": "371317d9",
   "metadata": {},
   "outputs": [
    {
     "name": "stdout",
     "output_type": "stream",
     "text": [
      "Enter Element You Want To Add In A List: 1 2 3 4 5\n",
      "List:  ['1', '2', '3', '4', '5']\n",
      "Even Numbers In A List:  ['2', '4']\n",
      "Odd Numbers In A List:  ['1', '3', '5']\n",
      "Sum of Even Numbers Is  6\n",
      "Sum of Odd Numbers Is  9\n"
     ]
    }
   ],
   "source": [
    "list1=input(\"Enter Element You Want To Add In A List: \").split()\n",
    "list2=[]\n",
    "list3=[]\n",
    "sum1=0\n",
    "sum2=0\n",
    "print(\"List: \",list1)\n",
    "for i in list1:\n",
    "    if int(i)%2==0:\n",
    "        list2.append(i)\n",
    "    elif int(i)%2!=0:\n",
    "        list3.append(i)\n",
    "for j in list2:\n",
    "    sum1=sum1+int(j)\n",
    "for k in list3:\n",
    "    sum2=sum2+int(k)\n",
    "print(\"Even Numbers In A List: \",list2)\n",
    "print(\"Odd Numbers In A List: \",list3)\n",
    "print(\"Sum of Even Numbers Is \",sum1)\n",
    "print(\"Sum of Odd Numbers Is \",sum2)"
   ]
  },
  {
   "cell_type": "markdown",
   "id": "84b9edec",
   "metadata": {},
   "source": [
    "19.Python Program to Left Rotate a List by n\n"
   ]
  },
  {
   "cell_type": "code",
   "execution_count": 1,
   "id": "02c00149",
   "metadata": {},
   "outputs": [
    {
     "name": "stdout",
     "output_type": "stream",
     "text": [
      "Enter Element You Want To Add In A List: 1 2 3 4 5 6 7 8 9 10\n",
      "Enter A Number To Left Rotate a List: 5\n",
      "['6', '7', '8', '9', '10', '1', '2', '3', '4', '5']\n"
     ]
    }
   ],
   "source": [
    "list1=input(\"Enter Element You Want To Add In A List: \").split()\n",
    "n=int(input(\"Enter A Number To Left Rotate a List: \"))\n",
    "print(\"Left Rotate List: \",list1[n:]+list1[0:n])"
   ]
  },
  {
   "cell_type": "markdown",
   "id": "8ab83bc2",
   "metadata": {},
   "source": [
    "20.Python Program to Right Rotate a List by n"
   ]
  },
  {
   "cell_type": "code",
   "execution_count": 8,
   "id": "12a05373",
   "metadata": {},
   "outputs": [
    {
     "name": "stdout",
     "output_type": "stream",
     "text": [
      "Enter Element You Want To Add In A List: 1 2 3 4 5 6 7 8 9 10\n",
      "Enter A Number To Right Rotate a List: 5\n",
      "Right Rotate List:  ['6', '7', '8', '9', '10', '1', '2', '3', '4', '5']\n"
     ]
    }
   ],
   "source": [
    "list1=input(\"Enter Element You Want To Add In A List: \").split()\n",
    "n=int(input(\"Enter A Number To Right Rotate a List: \"))\n",
    "print(\"Right Rotate List: \",list1[-n:]+list1[:-n])"
   ]
  }
 ],
 "metadata": {
  "kernelspec": {
   "display_name": "Python 3 (ipykernel)",
   "language": "python",
   "name": "python3"
  },
  "language_info": {
   "codemirror_mode": {
    "name": "ipython",
    "version": 3
   },
   "file_extension": ".py",
   "mimetype": "text/x-python",
   "name": "python",
   "nbconvert_exporter": "python",
   "pygments_lexer": "ipython3",
   "version": "3.9.12"
  }
 },
 "nbformat": 4,
 "nbformat_minor": 5
}
